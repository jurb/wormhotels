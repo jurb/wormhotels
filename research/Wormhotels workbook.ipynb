{
 "cells": [
  {
   "cell_type": "markdown",
   "metadata": {},
   "source": [
    "# Distance to nearest compost units ('worm hotels') for all addresses in De Wittenbuurt\n",
    "\n",
    "Using open data from the municipality, we will find the nearest plastic container for each address in De Wittenbuurt, and the distance to it in meters.\n",
    "\n",
    "Findings:\n",
    "\n",
    "* The largest distance is X meters. This seems reasonable!\n",
    "* The distance is in straight meters. It would be cool to calculate the distance over the road, via openstreetmap.\n",
    "\n",
    "\n",
    "Data:\n",
    "\n",
    "* [Addresses in Amsterdam](https://data.amsterdam.nl/index.html#?dsd=bag&dsp=1&dsv=TABLE&mpb=topografie&mpz=11&mpv=52.3731081:4.8932945)\n",
    "* [Neighbourhood compost](https://maps.amsterdam.nl/open_geodata/?LANG=en)\n"
   ]
  },
  {
   "cell_type": "code",
   "execution_count": 28,
   "metadata": {
    "collapsed": true
   },
   "outputs": [],
   "source": [
    "import numpy as np\n",
    "import pandas as pd\n",
    "\n",
    "# set interactivity to 'all' so we can easily print more than 1 outputs in 1 cell\n",
    "from IPython.core.interactiveshell import InteractiveShell\n",
    "InteractiveShell.ast_node_interactivity = \"all\""
   ]
  },
  {
   "cell_type": "markdown",
   "metadata": {},
   "source": [
    "## Cleaning the compost units dataset"
   ]
  },
  {
   "cell_type": "code",
   "execution_count": 29,
   "metadata": {},
   "outputs": [
    {
     "data": {
      "text/html": [
       "<div>\n",
       "<style>\n",
       "    .dataframe thead tr:only-child th {\n",
       "        text-align: right;\n",
       "    }\n",
       "\n",
       "    .dataframe thead th {\n",
       "        text-align: left;\n",
       "    }\n",
       "\n",
       "    .dataframe tbody tr th {\n",
       "        vertical-align: top;\n",
       "    }\n",
       "</style>\n",
       "<table border=\"1\" class=\"dataframe\">\n",
       "  <thead>\n",
       "    <tr style=\"text-align: right;\">\n",
       "      <th></th>\n",
       "      <th>OBJECTNUMMER</th>\n",
       "      <th>Straatnaam</th>\n",
       "      <th>Initiatiefnemer</th>\n",
       "      <th>Email</th>\n",
       "      <th>Aantal_bewoners</th>\n",
       "      <th>Soort_afval</th>\n",
       "      <th>Gebruik</th>\n",
       "      <th>Startjaar</th>\n",
       "      <th>Foto</th>\n",
       "      <th>COORDS</th>\n",
       "      <th>LNG</th>\n",
       "      <th>LAT</th>\n",
       "      <th>Unnamed: 12</th>\n",
       "    </tr>\n",
       "  </thead>\n",
       "  <tbody>\n",
       "    <tr>\n",
       "      <th>0</th>\n",
       "      <td>4</td>\n",
       "      <td>Frans Halsstraat</td>\n",
       "      <td>Peter Jan Brouwer</td>\n",
       "      <td>amsterdam+C001@wormenhotel.nl</td>\n",
       "      <td>20</td>\n",
       "      <td>GF</td>\n",
       "      <td>Toestemming van initiatiefnemer</td>\n",
       "      <td>2015</td>\n",
       "      <td>frans hals .jpeg</td>\n",
       "      <td>POINT(4.888706,52.356007)</td>\n",
       "      <td>4,888706</td>\n",
       "      <td>52,356007</td>\n",
       "      <td>NaN</td>\n",
       "    </tr>\n",
       "    <tr>\n",
       "      <th>1</th>\n",
       "      <td>5</td>\n",
       "      <td>hoek saffierstraat jozef israelkade</td>\n",
       "      <td>christien &amp; anneke</td>\n",
       "      <td>amsterdam+c002@wormenhotel.nl</td>\n",
       "      <td>7</td>\n",
       "      <td>GF</td>\n",
       "      <td>Toestemming van initiatiefnemer</td>\n",
       "      <td>2016</td>\n",
       "      <td>NaN</td>\n",
       "      <td>POINT(4.908527,52.349857)</td>\n",
       "      <td>4,908527</td>\n",
       "      <td>52,349857</td>\n",
       "      <td>NaN</td>\n",
       "    </tr>\n",
       "    <tr>\n",
       "      <th>2</th>\n",
       "      <td>6</td>\n",
       "      <td>zaanstraat t/o 300</td>\n",
       "      <td>soeptuinen bredius</td>\n",
       "      <td>www.soeptuinen.nl</td>\n",
       "      <td>0</td>\n",
       "      <td>GFT</td>\n",
       "      <td>Vrij inleveren</td>\n",
       "      <td>2016</td>\n",
       "      <td>NaN</td>\n",
       "      <td>POINT(4.871422,52.391292)</td>\n",
       "      <td>4,871422</td>\n",
       "      <td>52,391292</td>\n",
       "      <td>NaN</td>\n",
       "    </tr>\n",
       "    <tr>\n",
       "      <th>3</th>\n",
       "      <td>7</td>\n",
       "      <td>kramatweg 51</td>\n",
       "      <td>oost indisch groen</td>\n",
       "      <td>info@oostindischgroen.nl</td>\n",
       "      <td>0</td>\n",
       "      <td>GFT</td>\n",
       "      <td>Vrij inleveren</td>\n",
       "      <td>2016</td>\n",
       "      <td>NaN</td>\n",
       "      <td>POINT(4.945789,52.36213)</td>\n",
       "      <td>4,945789</td>\n",
       "      <td>52,36213</td>\n",
       "      <td>NaN</td>\n",
       "    </tr>\n",
       "    <tr>\n",
       "      <th>4</th>\n",
       "      <td>8</td>\n",
       "      <td>IJplein</td>\n",
       "      <td>buurtbak voedseltuin</td>\n",
       "      <td>ireen@balkonton.nl</td>\n",
       "      <td>6</td>\n",
       "      <td>GF</td>\n",
       "      <td>Toestemming van initiatiefnemer</td>\n",
       "      <td>2016</td>\n",
       "      <td>NaN</td>\n",
       "      <td>POINT(4.910984,52.382154)</td>\n",
       "      <td>4,910984</td>\n",
       "      <td>52,382154</td>\n",
       "      <td>NaN</td>\n",
       "    </tr>\n",
       "  </tbody>\n",
       "</table>\n",
       "</div>"
      ],
      "text/plain": [
       "   OBJECTNUMMER                           Straatnaam        Initiatiefnemer  \\\n",
       "0             4                     Frans Halsstraat      Peter Jan Brouwer   \n",
       "1             5  hoek saffierstraat jozef israelkade     christien & anneke   \n",
       "2             6                   zaanstraat t/o 300     soeptuinen bredius   \n",
       "3             7                         kramatweg 51     oost indisch groen   \n",
       "4             8                              IJplein  buurtbak voedseltuin    \n",
       "\n",
       "                           Email  Aantal_bewoners Soort_afval  \\\n",
       "0  amsterdam+C001@wormenhotel.nl               20          GF   \n",
       "1  amsterdam+c002@wormenhotel.nl                7          GF   \n",
       "2              www.soeptuinen.nl                0         GFT   \n",
       "3      info@oostindischgroen.nl                 0         GFT   \n",
       "4            ireen@balkonton.nl                 6          GF   \n",
       "\n",
       "                           Gebruik  Startjaar              Foto  \\\n",
       "0  Toestemming van initiatiefnemer       2015  frans hals .jpeg   \n",
       "1  Toestemming van initiatiefnemer       2016               NaN   \n",
       "2                   Vrij inleveren       2016               NaN   \n",
       "3                   Vrij inleveren       2016               NaN   \n",
       "4  Toestemming van initiatiefnemer       2016               NaN   \n",
       "\n",
       "                      COORDS       LNG        LAT  Unnamed: 12  \n",
       "0  POINT(4.888706,52.356007)  4,888706  52,356007          NaN  \n",
       "1  POINT(4.908527,52.349857)  4,908527  52,349857          NaN  \n",
       "2  POINT(4.871422,52.391292)  4,871422  52,391292          NaN  \n",
       "3   POINT(4.945789,52.36213)  4,945789   52,36213          NaN  \n",
       "4  POINT(4.910984,52.382154)  4,910984  52,382154          NaN  "
      ]
     },
     "execution_count": 29,
     "metadata": {},
     "output_type": "execute_result"
    }
   ],
   "source": [
    "# Load afvalcontainers from Amsterdam site\n",
    "df_buurtcompost = pd.read_csv('http://maps.amsterdam.nl/open_geodata/excel.php?KAARTLAAG=BUURTCOMPOST&THEMA=buurtcompost', encoding='latin-1', sep=\";\")\n",
    "df_buurtcompost.head()"
   ]
  },
  {
   "cell_type": "code",
   "execution_count": 30,
   "metadata": {},
   "outputs": [
    {
     "data": {
      "text/html": [
       "<div>\n",
       "<style>\n",
       "    .dataframe thead tr:only-child th {\n",
       "        text-align: right;\n",
       "    }\n",
       "\n",
       "    .dataframe thead th {\n",
       "        text-align: left;\n",
       "    }\n",
       "\n",
       "    .dataframe tbody tr th {\n",
       "        vertical-align: top;\n",
       "    }\n",
       "</style>\n",
       "<table border=\"1\" class=\"dataframe\">\n",
       "  <thead>\n",
       "    <tr style=\"text-align: right;\">\n",
       "      <th></th>\n",
       "      <th>OBJECTNUMMER</th>\n",
       "      <th>Straatnaam</th>\n",
       "      <th>Initiatiefnemer</th>\n",
       "      <th>Email</th>\n",
       "      <th>Aantal_bewoners</th>\n",
       "      <th>Soort_afval</th>\n",
       "      <th>Gebruik</th>\n",
       "      <th>Startjaar</th>\n",
       "      <th>Foto</th>\n",
       "      <th>COORDS</th>\n",
       "      <th>LNG</th>\n",
       "      <th>LAT</th>\n",
       "      <th>Unnamed: 12</th>\n",
       "      <th>locatie_cleaned</th>\n",
       "      <th>lng</th>\n",
       "      <th>lat</th>\n",
       "    </tr>\n",
       "  </thead>\n",
       "  <tbody>\n",
       "    <tr>\n",
       "      <th>0</th>\n",
       "      <td>4</td>\n",
       "      <td>Frans Halsstraat</td>\n",
       "      <td>Peter Jan Brouwer</td>\n",
       "      <td>amsterdam+C001@wormenhotel.nl</td>\n",
       "      <td>20</td>\n",
       "      <td>GF</td>\n",
       "      <td>Toestemming van initiatiefnemer</td>\n",
       "      <td>2015</td>\n",
       "      <td>frans hals .jpeg</td>\n",
       "      <td>POINT(4.888706,52.356007)</td>\n",
       "      <td>4,888706</td>\n",
       "      <td>52,356007</td>\n",
       "      <td>NaN</td>\n",
       "      <td>4.888706,52.356007</td>\n",
       "      <td>4.888706</td>\n",
       "      <td>52.356007</td>\n",
       "    </tr>\n",
       "    <tr>\n",
       "      <th>1</th>\n",
       "      <td>5</td>\n",
       "      <td>hoek saffierstraat jozef israelkade</td>\n",
       "      <td>christien &amp; anneke</td>\n",
       "      <td>amsterdam+c002@wormenhotel.nl</td>\n",
       "      <td>7</td>\n",
       "      <td>GF</td>\n",
       "      <td>Toestemming van initiatiefnemer</td>\n",
       "      <td>2016</td>\n",
       "      <td>NaN</td>\n",
       "      <td>POINT(4.908527,52.349857)</td>\n",
       "      <td>4,908527</td>\n",
       "      <td>52,349857</td>\n",
       "      <td>NaN</td>\n",
       "      <td>4.908527,52.349857</td>\n",
       "      <td>4.908527</td>\n",
       "      <td>52.349857</td>\n",
       "    </tr>\n",
       "    <tr>\n",
       "      <th>2</th>\n",
       "      <td>6</td>\n",
       "      <td>zaanstraat t/o 300</td>\n",
       "      <td>soeptuinen bredius</td>\n",
       "      <td>www.soeptuinen.nl</td>\n",
       "      <td>0</td>\n",
       "      <td>GFT</td>\n",
       "      <td>Vrij inleveren</td>\n",
       "      <td>2016</td>\n",
       "      <td>NaN</td>\n",
       "      <td>POINT(4.871422,52.391292)</td>\n",
       "      <td>4,871422</td>\n",
       "      <td>52,391292</td>\n",
       "      <td>NaN</td>\n",
       "      <td>4.871422,52.391292</td>\n",
       "      <td>4.871422</td>\n",
       "      <td>52.391292</td>\n",
       "    </tr>\n",
       "    <tr>\n",
       "      <th>3</th>\n",
       "      <td>7</td>\n",
       "      <td>kramatweg 51</td>\n",
       "      <td>oost indisch groen</td>\n",
       "      <td>info@oostindischgroen.nl</td>\n",
       "      <td>0</td>\n",
       "      <td>GFT</td>\n",
       "      <td>Vrij inleveren</td>\n",
       "      <td>2016</td>\n",
       "      <td>NaN</td>\n",
       "      <td>POINT(4.945789,52.36213)</td>\n",
       "      <td>4,945789</td>\n",
       "      <td>52,36213</td>\n",
       "      <td>NaN</td>\n",
       "      <td>4.945789,52.36213</td>\n",
       "      <td>4.945789</td>\n",
       "      <td>52.362130</td>\n",
       "    </tr>\n",
       "    <tr>\n",
       "      <th>4</th>\n",
       "      <td>8</td>\n",
       "      <td>IJplein</td>\n",
       "      <td>buurtbak voedseltuin</td>\n",
       "      <td>ireen@balkonton.nl</td>\n",
       "      <td>6</td>\n",
       "      <td>GF</td>\n",
       "      <td>Toestemming van initiatiefnemer</td>\n",
       "      <td>2016</td>\n",
       "      <td>NaN</td>\n",
       "      <td>POINT(4.910984,52.382154)</td>\n",
       "      <td>4,910984</td>\n",
       "      <td>52,382154</td>\n",
       "      <td>NaN</td>\n",
       "      <td>4.910984,52.382154</td>\n",
       "      <td>4.910984</td>\n",
       "      <td>52.382154</td>\n",
       "    </tr>\n",
       "  </tbody>\n",
       "</table>\n",
       "</div>"
      ],
      "text/plain": [
       "   OBJECTNUMMER                           Straatnaam        Initiatiefnemer  \\\n",
       "0             4                     Frans Halsstraat      Peter Jan Brouwer   \n",
       "1             5  hoek saffierstraat jozef israelkade     christien & anneke   \n",
       "2             6                   zaanstraat t/o 300     soeptuinen bredius   \n",
       "3             7                         kramatweg 51     oost indisch groen   \n",
       "4             8                              IJplein  buurtbak voedseltuin    \n",
       "\n",
       "                           Email  Aantal_bewoners Soort_afval  \\\n",
       "0  amsterdam+C001@wormenhotel.nl               20          GF   \n",
       "1  amsterdam+c002@wormenhotel.nl                7          GF   \n",
       "2              www.soeptuinen.nl                0         GFT   \n",
       "3      info@oostindischgroen.nl                 0         GFT   \n",
       "4            ireen@balkonton.nl                 6          GF   \n",
       "\n",
       "                           Gebruik  Startjaar              Foto  \\\n",
       "0  Toestemming van initiatiefnemer       2015  frans hals .jpeg   \n",
       "1  Toestemming van initiatiefnemer       2016               NaN   \n",
       "2                   Vrij inleveren       2016               NaN   \n",
       "3                   Vrij inleveren       2016               NaN   \n",
       "4  Toestemming van initiatiefnemer       2016               NaN   \n",
       "\n",
       "                      COORDS       LNG        LAT  Unnamed: 12  \\\n",
       "0  POINT(4.888706,52.356007)  4,888706  52,356007          NaN   \n",
       "1  POINT(4.908527,52.349857)  4,908527  52,349857          NaN   \n",
       "2  POINT(4.871422,52.391292)  4,871422  52,391292          NaN   \n",
       "3   POINT(4.945789,52.36213)  4,945789   52,36213          NaN   \n",
       "4  POINT(4.910984,52.382154)  4,910984  52,382154          NaN   \n",
       "\n",
       "      locatie_cleaned       lng        lat  \n",
       "0  4.888706,52.356007  4.888706  52.356007  \n",
       "1  4.908527,52.349857  4.908527  52.349857  \n",
       "2  4.871422,52.391292  4.871422  52.391292  \n",
       "3   4.945789,52.36213  4.945789  52.362130  \n",
       "4  4.910984,52.382154  4.910984  52.382154  "
      ]
     },
     "execution_count": 30,
     "metadata": {},
     "output_type": "execute_result"
    }
   ],
   "source": [
    "# Clean up the coordinates column. We need a string formatted as '{lng},{lat}'\n",
    "df_buurtcompost['locatie_cleaned'] = df_buurtcompost['COORDS'].str.replace('POINT\\(','').str.replace('\\)','')\n",
    "df_buurtcompost['lng'] = df_buurtcompost['LNG'].str.replace(',','.').astype(float)\n",
    "df_buurtcompost['lat'] = df_buurtcompost['LAT'].str.replace(',','.').astype(float)\n",
    "\n",
    "# Show frame\n",
    "df_buurtcompost.head()"
   ]
  },
  {
   "cell_type": "code",
   "execution_count": null,
   "metadata": {
    "collapsed": true
   },
   "outputs": [],
   "source": [
    "\n"
   ]
  },
  {
   "cell_type": "markdown",
   "metadata": {},
   "source": [
    "## Cleaning the addresses dataset"
   ]
  },
  {
   "cell_type": "code",
   "execution_count": 34,
   "metadata": {},
   "outputs": [
    {
     "data": {
      "text/html": [
       "<div>\n",
       "<style>\n",
       "    .dataframe thead tr:only-child th {\n",
       "        text-align: right;\n",
       "    }\n",
       "\n",
       "    .dataframe thead th {\n",
       "        text-align: left;\n",
       "    }\n",
       "\n",
       "    .dataframe tbody tr th {\n",
       "        vertical-align: top;\n",
       "    }\n",
       "</style>\n",
       "<table border=\"1\" class=\"dataframe\">\n",
       "  <thead>\n",
       "    <tr style=\"text-align: right;\">\n",
       "      <th></th>\n",
       "      <th>Naam openbare ruimte</th>\n",
       "      <th>Huisnummer</th>\n",
       "      <th>Huisletter</th>\n",
       "      <th>Huisnummertoevoeging</th>\n",
       "      <th>Postcode</th>\n",
       "      <th>Woonplaats</th>\n",
       "      <th>Naam stadsdeel</th>\n",
       "      <th>Code stadsdeel</th>\n",
       "      <th>Naam gebiedsgerichtwerkengebied</th>\n",
       "      <th>Code gebiedsgerichtwerkengebied</th>\n",
       "      <th>...</th>\n",
       "      <th>Feitelijk gebruik</th>\n",
       "      <th>Oppervlakte (m2)</th>\n",
       "      <th>Objecttype</th>\n",
       "      <th>Verblijfsobjectstatus</th>\n",
       "      <th>Openbareruimte-identificatie</th>\n",
       "      <th>Pandidentificatie</th>\n",
       "      <th>Verblijfsobjectidentificatie</th>\n",
       "      <th>Ligplaatsidentificatie</th>\n",
       "      <th>Standplaatsidentificatie</th>\n",
       "      <th>Nummeraanduidingidentificatie</th>\n",
       "    </tr>\n",
       "  </thead>\n",
       "  <tbody>\n",
       "    <tr>\n",
       "      <th>0</th>\n",
       "      <td>Eerste Constantijn Huygensstraat</td>\n",
       "      <td>15</td>\n",
       "      <td>NaN</td>\n",
       "      <td>1</td>\n",
       "      <td>1054BP</td>\n",
       "      <td>NaN</td>\n",
       "      <td>West</td>\n",
       "      <td>E</td>\n",
       "      <td>Oud West / De Baarsjes</td>\n",
       "      <td>DX05</td>\n",
       "      <td>...</td>\n",
       "      <td>woning</td>\n",
       "      <td>66.0</td>\n",
       "      <td>Verblijfsobject</td>\n",
       "      <td>Verblijfsobject in gebruik</td>\n",
       "      <td>363300000002537</td>\n",
       "      <td>['0363100012159829']</td>\n",
       "      <td>3.630100e+14</td>\n",
       "      <td>NaN</td>\n",
       "      <td>NaN</td>\n",
       "      <td>363200000007060</td>\n",
       "    </tr>\n",
       "    <tr>\n",
       "      <th>1</th>\n",
       "      <td>Eerste Helmersstraat</td>\n",
       "      <td>188</td>\n",
       "      <td>NaN</td>\n",
       "      <td>3</td>\n",
       "      <td>1054EL</td>\n",
       "      <td>NaN</td>\n",
       "      <td>West</td>\n",
       "      <td>E</td>\n",
       "      <td>Oud West / De Baarsjes</td>\n",
       "      <td>DX05</td>\n",
       "      <td>...</td>\n",
       "      <td>woning</td>\n",
       "      <td>62.0</td>\n",
       "      <td>Verblijfsobject</td>\n",
       "      <td>Verblijfsobject in gebruik</td>\n",
       "      <td>363300000002541</td>\n",
       "      <td>['0363100012120031']</td>\n",
       "      <td>3.630100e+14</td>\n",
       "      <td>NaN</td>\n",
       "      <td>NaN</td>\n",
       "      <td>363200000007846</td>\n",
       "    </tr>\n",
       "    <tr>\n",
       "      <th>2</th>\n",
       "      <td>Eerste Anjeliersdwarsstraat</td>\n",
       "      <td>1</td>\n",
       "      <td>NaN</td>\n",
       "      <td>2</td>\n",
       "      <td>1015NR</td>\n",
       "      <td>NaN</td>\n",
       "      <td>Centrum</td>\n",
       "      <td>A</td>\n",
       "      <td>Centrum-West</td>\n",
       "      <td>DX01</td>\n",
       "      <td>...</td>\n",
       "      <td>woning</td>\n",
       "      <td>48.0</td>\n",
       "      <td>Verblijfsobject</td>\n",
       "      <td>Verblijfsobject in gebruik</td>\n",
       "      <td>363300000002529</td>\n",
       "      <td>['0363100012174784']</td>\n",
       "      <td>3.630100e+14</td>\n",
       "      <td>NaN</td>\n",
       "      <td>NaN</td>\n",
       "      <td>363200000006112</td>\n",
       "    </tr>\n",
       "    <tr>\n",
       "      <th>3</th>\n",
       "      <td>Eerste Constantijn Huygensstraat</td>\n",
       "      <td>19</td>\n",
       "      <td>NaN</td>\n",
       "      <td>2</td>\n",
       "      <td>1054BP</td>\n",
       "      <td>NaN</td>\n",
       "      <td>West</td>\n",
       "      <td>E</td>\n",
       "      <td>Oud West / De Baarsjes</td>\n",
       "      <td>DX05</td>\n",
       "      <td>...</td>\n",
       "      <td>woning</td>\n",
       "      <td>130.0</td>\n",
       "      <td>Verblijfsobject</td>\n",
       "      <td>Verblijfsobject in gebruik</td>\n",
       "      <td>363300000002537</td>\n",
       "      <td>['0363100012157570']</td>\n",
       "      <td>3.630100e+14</td>\n",
       "      <td>NaN</td>\n",
       "      <td>NaN</td>\n",
       "      <td>363200000007066</td>\n",
       "    </tr>\n",
       "    <tr>\n",
       "      <th>4</th>\n",
       "      <td>Eerste Helmersstraat</td>\n",
       "      <td>190</td>\n",
       "      <td>NaN</td>\n",
       "      <td>3</td>\n",
       "      <td>1054EL</td>\n",
       "      <td>NaN</td>\n",
       "      <td>West</td>\n",
       "      <td>E</td>\n",
       "      <td>Oud West / De Baarsjes</td>\n",
       "      <td>DX05</td>\n",
       "      <td>...</td>\n",
       "      <td>woning</td>\n",
       "      <td>88.0</td>\n",
       "      <td>Verblijfsobject</td>\n",
       "      <td>Verblijfsobject in gebruik</td>\n",
       "      <td>363300000002541</td>\n",
       "      <td>['0363100012120432']</td>\n",
       "      <td>3.630100e+14</td>\n",
       "      <td>NaN</td>\n",
       "      <td>NaN</td>\n",
       "      <td>363200000007852</td>\n",
       "    </tr>\n",
       "  </tbody>\n",
       "</table>\n",
       "<p>5 rows × 31 columns</p>\n",
       "</div>"
      ],
      "text/plain": [
       "               Naam openbare ruimte  Huisnummer Huisletter  \\\n",
       "0  Eerste Constantijn Huygensstraat          15        NaN   \n",
       "1              Eerste Helmersstraat         188        NaN   \n",
       "2       Eerste Anjeliersdwarsstraat           1        NaN   \n",
       "3  Eerste Constantijn Huygensstraat          19        NaN   \n",
       "4              Eerste Helmersstraat         190        NaN   \n",
       "\n",
       "  Huisnummertoevoeging Postcode  Woonplaats Naam stadsdeel Code stadsdeel  \\\n",
       "0                    1   1054BP         NaN           West              E   \n",
       "1                    3   1054EL         NaN           West              E   \n",
       "2                    2   1015NR         NaN        Centrum              A   \n",
       "3                    2   1054BP         NaN           West              E   \n",
       "4                    3   1054EL         NaN           West              E   \n",
       "\n",
       "  Naam gebiedsgerichtwerkengebied Code gebiedsgerichtwerkengebied  \\\n",
       "0          Oud West / De Baarsjes                            DX05   \n",
       "1          Oud West / De Baarsjes                            DX05   \n",
       "2                    Centrum-West                            DX01   \n",
       "3          Oud West / De Baarsjes                            DX05   \n",
       "4          Oud West / De Baarsjes                            DX05   \n",
       "\n",
       "               ...               Feitelijk gebruik Oppervlakte (m2)  \\\n",
       "0              ...                          woning             66.0   \n",
       "1              ...                          woning             62.0   \n",
       "2              ...                          woning             48.0   \n",
       "3              ...                          woning            130.0   \n",
       "4              ...                          woning             88.0   \n",
       "\n",
       "        Objecttype       Verblijfsobjectstatus Openbareruimte-identificatie  \\\n",
       "0  Verblijfsobject  Verblijfsobject in gebruik              363300000002537   \n",
       "1  Verblijfsobject  Verblijfsobject in gebruik              363300000002541   \n",
       "2  Verblijfsobject  Verblijfsobject in gebruik              363300000002529   \n",
       "3  Verblijfsobject  Verblijfsobject in gebruik              363300000002537   \n",
       "4  Verblijfsobject  Verblijfsobject in gebruik              363300000002541   \n",
       "\n",
       "      Pandidentificatie  Verblijfsobjectidentificatie Ligplaatsidentificatie  \\\n",
       "0  ['0363100012159829']                  3.630100e+14                    NaN   \n",
       "1  ['0363100012120031']                  3.630100e+14                    NaN   \n",
       "2  ['0363100012174784']                  3.630100e+14                    NaN   \n",
       "3  ['0363100012157570']                  3.630100e+14                    NaN   \n",
       "4  ['0363100012120432']                  3.630100e+14                    NaN   \n",
       "\n",
       "  Standplaatsidentificatie  Nummeraanduidingidentificatie  \n",
       "0                      NaN                363200000007060  \n",
       "1                      NaN                363200000007846  \n",
       "2                      NaN                363200000006112  \n",
       "3                      NaN                363200000007066  \n",
       "4                      NaN                363200000007852  \n",
       "\n",
       "[5 rows x 31 columns]"
      ]
     },
     "execution_count": 34,
     "metadata": {},
     "output_type": "execute_result"
    },
    {
     "data": {
      "text/plain": [
       "Index(['Naam openbare ruimte', 'Huisnummer', 'Huisletter',\n",
       "       'Huisnummertoevoeging', 'Postcode', 'Woonplaats', 'Naam stadsdeel',\n",
       "       'Code stadsdeel', 'Naam gebiedsgerichtwerkengebied',\n",
       "       'Code gebiedsgerichtwerkengebied', 'Naam Wijk', 'Code Wijk',\n",
       "       'Naam buurt', 'Code buurt', 'Code bouwblok', 'X-coordinaat (RD)',\n",
       "       'Y-coordinaat (RD)', 'Latitude (WGS84)', 'Longitude (WGS84)',\n",
       "       'Indicatie hoofdadres', 'Gebruiksdoel', 'Feitelijk gebruik',\n",
       "       'Oppervlakte (m2)', 'Objecttype', 'Verblijfsobjectstatus',\n",
       "       'Openbareruimte-identificatie', 'Pandidentificatie',\n",
       "       'Verblijfsobjectidentificatie', 'Ligplaatsidentificatie',\n",
       "       'Standplaatsidentificatie', 'Nummeraanduidingidentificatie'],\n",
       "      dtype='object')"
      ]
     },
     "execution_count": 34,
     "metadata": {},
     "output_type": "execute_result"
    },
    {
     "name": "stdout",
     "output_type": "stream",
     "text": [
      "510488\n",
      "510436\n"
     ]
    },
    {
     "data": {
      "text/plain": [
       "count                   510436\n",
       "unique                  314880\n",
       "top       4.8507211,52.3574849\n",
       "freq                       145\n",
       "Name: locatie_cleaned, dtype: object"
      ]
     },
     "execution_count": 34,
     "metadata": {},
     "output_type": "execute_result"
    }
   ],
   "source": [
    "# Loading from disk because file is 17mb, loading from site takes too long\n",
    "df_adressen = pd.read_csv('../data/export_20180227_122333.csv', encoding='latin-1', sep=\";\")\n",
    "df_adressen.head()\n",
    "df_adressen.keys()\n",
    "# Convert lat and long values to float\n",
    "df_adressen['lng'] = df_adressen['Longitude (WGS84)'].str.replace(',', '.').astype(float)\n",
    "df_adressen['lat'] = df_adressen['Latitude (WGS84)'].str.replace(',', '.').astype(float)\n",
    "print(len(df_adressen))\n",
    "# A few rows have NaN as longtitude or lattitude, let's remove those\n",
    "df_adressen = df_adressen[pd.notnull(df_adressen['lng'])]\n",
    "df_adressen = df_adressen[pd.notnull(df_adressen['lat'])]\n",
    "print(len(df_adressen))\n",
    "# Now combine the coordinates into a string\n",
    "df_adressen['locatie_cleaned'] = df_adressen['lng'].map(str) + \",\" + df_adressen['lat'].map(str)\n",
    "df_adressen['locatie_cleaned'].describe()\n",
    "\n"
   ]
  },
  {
   "cell_type": "code",
   "execution_count": 36,
   "metadata": {},
   "outputs": [
    {
     "data": {
      "text/plain": [
       "array(['woning', '(detail)handel / winkel',\n",
       "       'beroepsonderwijs  (LBO / MBO)', nan, 'kantoor (hoofdcode)',\n",
       "       'winkel', 'woning + winkel', 'cafÃ© / bar / restaurant', 'horeca',\n",
       "       'bedrijf', 'garage',\n",
       "       'parkeergarage geÃ«xploiteerd voor kortparkeren', 'praktijkruimte',\n",
       "       'opslag / distributie', 'crÃ¨che / peuterspeelzaal',\n",
       "       'overig cultureel', 'woning + horeca', 'onderwijs', 'kerk',\n",
       "       'hogeschool / universiteit', 'dagverblijf',\n",
       "       'woning + (detail)handel / winkel', 'bijzondere woonfunctie',\n",
       "       'woning + kantoor', 'hotel / motel', 'woning + praktijkruimte',\n",
       "       'dienstverlening openbaar nut', 'atelier / werkruimte met woning',\n",
       "       'overig medisch', 'woning + bedrijf',\n",
       "       'woning + kantoor (hoofdcode)', 'basisschool', 'benzinestation',\n",
       "       'cultuur', 'trafo', 'showroom / werkplaats / garage', 'speeltuin',\n",
       "       'sport / recreatie', 'verblijf voor verstandelijk gehandicapten',\n",
       "       'bibliotheek', 'praktijkruimte (tandarts / fysiotherapeut)',\n",
       "       'wijk- / buurtcentrum', 'woning + cafÃ©/bar/restaurant', 'kantoor',\n",
       "       'revalidatiecentrum',\n",
       "       'algemeen voortgezet onderwijs  (MAVO / HAVO /', 'bar / dancing',\n",
       "       'busstation', 'medisch dagverblijf', 'ziekenhuis', 'medisch',\n",
       "       'museum', 'gemaal', 'begraafplaats', 'volkstuin',\n",
       "       'kantoor in bedrijfsverzamelgebouw', 'speciaal onderwijs', 'moskee',\n",
       "       'overig energie en water', 'politiebureau', 'overig bedrijf',\n",
       "       'agrarisch object', 'clubhuis', 'parkeerplaats in parkeergarage',\n",
       "       'overig sport en recreatie', 'gezinsvervangend tehuis',\n",
       "       'crematorium', 'collectieve parkeerplaats bij woningen',\n",
       "       'woning + agrarische niet-woning (overig)',\n",
       "       'verzorgings- / bejaardentehuis (complex)', 'NS-station',\n",
       "       'brandweerkazerne', 'woning + cafetaria/snackbar',\n",
       "       'telefooncentrale', 'klooster', 'woning + bedrijf (overig)',\n",
       "       'woning + akkerbouwbedrijf', 'woning + opslag/ distributie',\n",
       "       'atelier / werkruimte', 'laboratorium',\n",
       "       'sporthal / sportzaal / gymnastieklokaal',\n",
       "       'recreatie / sportcentrum', 'toonzaal', 'cafetaria / snackbar',\n",
       "       'gevangenis', 'overig kantoor', 'verpleegtehuis',\n",
       "       'woning + bar/dancing', 'stroomdistributiestation',\n",
       "       'schouwburg / concertgebouw', 'bioscoop',\n",
       "       'psychiatrisch ziekenhuis', 'woning + horeca (overig)', 'transport',\n",
       "       'eredienst', 'camping', 'geldautomaat / pinautomaat',\n",
       "       'overig horeca', 'tuinbouwbedrijf (incl bloembollenteelt)',\n",
       "       'woning + toonzaal',\n",
       "       'woning + tuinbouwbedrijf (incl bloembollentee',\n",
       "       'stoeterij / manege / paardenfokkerij', 'kinderboerderij',\n",
       "       'woning + agrarisch object', 'overig eredienst',\n",
       "       'woning + showroom/ werkplaats/ garage', 'tbv landsverdediging',\n",
       "       'tuincentrum', 'tennisbaan', 'kiosk', 'aula', 'overig transport',\n",
       "       'woning + kerk', 'parkeerplaats (niet dienstbaar aan wonen)',\n",
       "       'gasdistributiestation', 'zwembad', 'reinwaterkelder', 'terrein',\n",
       "       'woning + kantoor in bedrijfsverzamelgebouw', 'gemeenschapsgebouw',\n",
       "       'studiogebouw', 'kleedgebouw / toiletten', '(poli)kliniek',\n",
       "       'bedrijfsboot', 'communicatie', 'gemeentewerken',\n",
       "       'productie (fabriek)', 'drinkwaterpompstation',\n",
       "       'pension / logiesgebouw', 'woning + productie (fabriek)',\n",
       "       'woning + hotel/motel', 'expositiehal / evenementenhal',\n",
       "       'woning + pension/logiesgebouw', 'kantine'], dtype=object)"
      ]
     },
     "execution_count": 36,
     "metadata": {},
     "output_type": "execute_result"
    },
    {
     "data": {
      "text/plain": [
       "array(['Helmersbuurt Oost', 'Cremerbuurt West', 'Anjeliersbuurt Zuid',\n",
       "       'WG-terrein', 'Noordwestkwadrant Indische buurt Zuid',\n",
       "       'Vondelparkbuurt Oost', 'Cremerbuurt Oost', 'Van der Pekbuurt',\n",
       "       'Driehoekbuurt', 'Frederik Hendrikbuurt Zuidoost',\n",
       "       'Frederik Hendrikbuurt Noord', 'Swammerdambuurt',\n",
       "       'Anjeliersbuurt Noord', 'Westelijke eilanden', 'Frans Halsbuurt',\n",
       "       'Noordoostkwadrant Indische buurt', 'Czaar Peterbuurt',\n",
       "       'Bloemgrachtbuurt', 'Osdorp Midden Noord', 'Hercules Seghersbuurt',\n",
       "       'Sarphatiparkbuurt', 'Elandsgrachtbuurt', 'De Wittenbuurt Noord',\n",
       "       'Weesperzijde Midden/Zuid', 'Oosterparkbuurt Noordwest',\n",
       "       'Oosterparkbuurt Zuidwest', 'Fannius Scholtenbuurt',\n",
       "       'Westerstaatsman', 'Buyskade e.o.', 'Passeerdersgrachtbuurt',\n",
       "       'Schinkelbuurt Noord', 'Planciusbuurt Noord', 'Gerard Doubuurt',\n",
       "       'Dapperbuurt Zuid', 'Dapperbuurt Noord', 'Vogelbuurt Noord',\n",
       "       'Weteringbuurt', 'De Eenhoorn', 'Frederik Hendrikbuurt Zuidwest',\n",
       "       'Den Texbuurt', 'Vondelparkbuurt Midden', 'Hemonybuurt',\n",
       "       'Bellamybuurt Noord', 'Bellamybuurt Zuid', 'Lootsbuurt',\n",
       "       'De Wittenbuurt Zuid', 'Van der Helstpleinbuurt',\n",
       "       'Burgemeester Tellegenbuurt West', 'Lizzy Ansinghbuurt',\n",
       "       'Oosterparkbuurt Zuidoost', 'Zaagpoortbuurt', 'Wittenburg',\n",
       "       'Aalsmeerwegbuurt Oost', 'Aalsmeerwegbuurt West',\n",
       "       'Bedrijventerrein Hamerstraat', 'Buurt 9', 'Terrasdorp',\n",
       "       'Slotermeer Zuid', 'Staalmanbuurt', 'Banne Zuidwest', 'Buurt 7',\n",
       "       'Buurt 6', 'Buurt 8', 'Hoge Dijk', 'Buurt 4 Oost',\n",
       "       'Marathonbuurt Oost', 'Marathonbuurt West', 'Van Tuyllbuurt',\n",
       "       'Utrechtsebuurt Zuid', 'Frederikspleinbuurt',\n",
       "       'Jacques Veldmanbuurt', 'Vogelbuurt Zuid', 'Buikslotermeerplein',\n",
       "       'Buurt 5 Noord', 'Osdorp Midden Zuid', 'Kortenaerkwartier',\n",
       "       'Geuzenhofbuurt', 'Trompbuurt', 'Pieter van der Doesbuurt',\n",
       "       'Erasmusparkbuurt Oost', 'Landlust Noord', 'Bosleeuw',\n",
       "       'Gibraltarbuurt', 'Landlust Zuid', 'Van Brakelkwartier',\n",
       "       'Columbusplein e.o.', 'Filips van Almondekwartier',\n",
       "       'Balboaplein e.o.', 'Zunderdorp', 'Minervabuurt Noord', 'De Punt',\n",
       "       'Betondorp', 'Bloemenbuurt Zuid', 'John Franklinbuurt',\n",
       "       'Jacob Geelbuurt', 'Twiske West', 'Spaarndammerbuurt Noordoost',\n",
       "       'Hiltonbuurt', 'Surinamepleinbuurt', 'Westlandgrachtbuurt',\n",
       "       'Louis Chrispijnbuurt', 'Buurt 5 Zuid', 'Rijnbuurt West',\n",
       "       'Transvaalbuurt West', 'Kolenkitbuurt Noord', 'Dorp Sloten',\n",
       "       'Minervabuurt Midden', 'Tuindorp Oostzaan Oost',\n",
       "       'Buitenveldert Zuidoost', 'Concertgebouwbuurt',\n",
       "       'Alexanderplein e.o.', 'Mercatorpark', 'Werengouw Midden',\n",
       "       'Da Costabuurt Noord', 'Emanuel van Meterenbuurt',\n",
       "       'Buikslotermeer Noord', 'Zuidwestkwadrant Indische buurt',\n",
       "       'Blauwe Zand', 'Kadoelen', 'Reguliersbuurt', 'Waterloopleinbuurt',\n",
       "       'Rembrandtpleinbuurt', 'Weesperbuurt', 'Middenmeer Zuid',\n",
       "       'Sarphatistrook', 'Amstelveldbuurt', 'Willibrordusbuurt',\n",
       "       'Diamantbuurt', 'IJselbuurt Oost', 'Kromme Mijdrechtbuurt',\n",
       "       'Vondelparkbuurt West', 'Willemsparkbuurt Noord',\n",
       "       'Valeriusbuurt West', 'Bertelmanpleinbuurt', 'Schinkelbuurt Zuid',\n",
       "       'Olympisch Stadion e.o.', 'Rijnbuurt Midden', 'Rijnbuurt Oost',\n",
       "       'Amstelpark', 'IJselbuurt West', 'Scheldebuurt West',\n",
       "       'Wielingenbuurt', 'VU-kwartier', 'Buitenveldert Zuidwest',\n",
       "       'Valkenburg', 'Buitenveldert West Midden', 'Robert Scottbuurt West',\n",
       "       'Tuindorp Nieuwendam West', 'Petroleumhaven', 'Zorgvlied',\n",
       "       'Zuiderhof', 'Beethovenbuurt', 'Coenhaven/Mercuriushaven',\n",
       "       'Middenmeer Noord', 'Postjeskade e.o.', 'Buurt 3',\n",
       "       'Prinses Irenebuurt', 'Overtoomse Veld Zuid',\n",
       "       'Bedrijventerrein Schinkel', 'Diepenbrockbuurt', 'Kadijken',\n",
       "       'Houthavens West', 'Buurt 2', 'Buitenveldert Oost Midden',\n",
       "       'Gelderlandpleinbuurt', 'Paramariboplein e.o.',\n",
       "       'Bloemenbuurt Noord', 'De Wester Quartier', 'Kolenkitbuurt Zuid',\n",
       "       'Haarlemmerbuurt West', 'Buitenveldert Midden Zuid',\n",
       "       'Zuidwestkwadrant Osdorp Zuid', 'Spaarndammerbuurt Zuidwest',\n",
       "       'Buiksloterham', 'Noordoever Sloterplas',\n",
       "       'Tuindorp Nieuwendam Oost', 'Tuindorp Frankendael',\n",
       "       'De Kleine Wereld', 'Duivelseiland', 'Zeeheldenbuurt',\n",
       "       'Burgwallen Oost', 'Veluwebuurt', 'Hondecoeterbuurt',\n",
       "       'Rode Kruisbuurt', 'Sloterdijk II', 'Westhaven Zuid',\n",
       "       'Zuidoostkwadrant Indische buurt', 'Teleport', 'Banne Zuidoost',\n",
       "       'Osdorp Zuidoost', 'Noordwestkwadrant Indische buurt Noord',\n",
       "       'Cornelis Schuytbuurt', 'Banpleinbuurt', 'Leidsebuurt Noordwest',\n",
       "       'Wildeman', 'Don Bosco', 'Markengouw Midden', 'Minervabuurt Zuid',\n",
       "       'Begijnhofbuurt', 'Oostpoort', 'Bedrijventerrein Sloterdijk I',\n",
       "       'Holysloot', 'Tuindorp Amstelstation', 'Plan van Gool',\n",
       "       'Felix Meritisbuurt', 'Molenwijk', 'Leliegracht e.o.',\n",
       "       'Leidsegracht Zuid', 'Oude Kerk e.o.', 'Scheldebuurt Midden',\n",
       "       'Amsterdamse Poort', 'Da Costabuurt Zuid', 'Borgerbuurt',\n",
       "       'Ransdorp', 'Lastage', 'Haarlemmerbuurt Oost',\n",
       "       'Scheepvaarthuisbuurt', 'Erasmusparkbuurt West', 'Langestraat e.o.',\n",
       "       'Nieuwe Kerk e.o.', 'Walvisbuurt', 'Sportpark Middenmeer Zuid',\n",
       "       'P.C. Hooftbuurt', 'Borneo', 'Amsterdamse Bos', 'Linnaeusparkbuurt',\n",
       "       'Valeriusbuurt Oost', 'Nieuwmarkt', 'Leidsebuurt Noordoost',\n",
       "       'Buiksloterdijk Oost', 'Buiksloterdijk West', 'Marjoleinterrein',\n",
       "       'Nintemanterrein', 'Nieuwe Diep/Diemerpark', 'Elzenhagen Noord',\n",
       "       'Marnixbuurt Noord', 'Uilenburg', 'Dorp Driemond',\n",
       "       'Noorderstrook West', 'Burgemeester Tellegenbuurt Oost',\n",
       "       'IJplein e.o.', 'Werengouw Zuid', 'Cornelis Troostbuurt',\n",
       "       'De Wetbuurt', 'Nes e.o.', 'BG-terrein e.o.', 'Transvaalbuurt Oost',\n",
       "       'Scheldebuurt Oost', 'Oostenburg', 'Zuidwestkwadrant Osdorp Noord',\n",
       "       'Harmoniehofbuurt', 'Westhaven Noord', 'Markengouw Zuid',\n",
       "       'Schipluidenbuurt', 'Cornelis Douwesterrein', 'Entrepot-Noordwest',\n",
       "       'Bedrijvengebied Cruquiusweg', 'Bedrijvengebied Veelaan',\n",
       "       'Nieuwendijk Noord', 'Zuiderkerkbuurt', 'Amstelkwartier Zuid',\n",
       "       'Kazernebuurt', 'Vivaldi', 'De Klenckebuurt', 'Westerdokseiland',\n",
       "       'Oosterdokseiland', 'Staatsliedenbuurt Noordoost',\n",
       "       'Delflandpleinbuurt West', 'Bedrijventerrein Landlust',\n",
       "       'Overtoomse Veld Noord', 'Tuindorp Oostzaan West',\n",
       "       'Marine-Etablissement', 'Beatrixpark', 'Nieuw Sloten Zuidwest',\n",
       "       'Papaverweg e.o.', 'Leidsegracht Noord', 'Weespertrekvaart',\n",
       "       'Durgerdam', 'Bretten West', 'Drieburg', 'Ookmeer',\n",
       "       'Marnixbuurt Zuid', 'Calandlaan/Lelylaan', 'Kop Zeedijk',\n",
       "       'Hemelrijk', 'Robert Scottbuurt Oost', 'Johannnes Vermeerbuurt',\n",
       "       'Groenmarktkadebuurt', 'RAI', 'Flevopark', 'F-buurt', 'Rapenburg',\n",
       "       'D-buurt', 'Bijlmermuseum Noord', 'Frankendael', 'Van der Kunbuurt',\n",
       "       'G-buurt West', 'Julianapark', 'Vervoerscentrum', 'Rechte H-buurt',\n",
       "       'Java-eiland', 'Legmeerpleinbuurt', 'De Heining',\n",
       "       'Planciusbuurt Zuid', 'Westergasfabriek',\n",
       "       'Bedrijvencentrum Westerkwartier',\n",
       "       'Woon- en Groengebied Sloterdijk', 'Kalverdriehoek',\n",
       "       'Sloterdijk III West', 'Osdorper Binnenpolder', 'Buurt 10',\n",
       "       'Spaarndammerbuurt Midden', 'Spaarndammerbuurt Noordwest',\n",
       "       'Spuistraat Zuid', 'Gouden Bocht', 'de Plantage', 'Van Loonbuurt',\n",
       "       'Spiegelbuurt', 'Osdorpplein e.o.', 'Andreasterrein',\n",
       "       'Delflandpleinbuurt Oost', 'Museumplein',\n",
       "       'Koningin Wilhelminaplein', 'Orteliusbuurt Zuid',\n",
       "       'Orteliusbuurt Midden', 'Johan Jongkindbuurt', 'Jan Maijenbuurt',\n",
       "       'Orteliusbuurt Noord', 'Amstel III deel C/D Noord',\n",
       "       'Spaarndammerbuurt Zuidoost', 'Amstel III deel A/B Noord',\n",
       "       'Amerikahaven', 'Baanakkerspark Zuid', 'Bedrijvencentrum Osdorp',\n",
       "       'IJsbaanpad e.o.', 'Nieuwe Meer', 'Markthallen', 'Amstelglorie',\n",
       "       'Lucas/Andreasziekenhuis e.o.', 'Baanakkerspark Noord',\n",
       "       'Amstelkwartier West', 'Alfa-driehoek', 'Kattenburg',\n",
       "       'K-buurt Midden', 'Bijlmermuseum Zuid', 'Oostzanerdijk',\n",
       "       'Leidsebuurt Zuidoost', 'L-buurt', 'Spuistraat Noord',\n",
       "       'Amstelkwartier Noord', 'De Omval', 'Science Park Zuid',\n",
       "       'Nieuwe Oosterbegraafplaats', 'Nieuwendammerdijk West',\n",
       "       'Leidsebuurt Zuidwest', 'KNSM-eiland', 'Landelijk gebied Driemond',\n",
       "       'Schellingwoude Oost', 'Zwarte Gouw', 'Schellingwoude Noord',\n",
       "       'Oosterpark', 'Osdorper Bovenpolder', 'Bedrijvenpark Lutkemeer',\n",
       "       'Medisch Centrum Slotervaart', 'Marnixbuurt Midden',\n",
       "       'Meer en Oever', 'Vliegenbos', 'Park de Meer', 'Rembrandtpark Zuid',\n",
       "       'Science Park Noord', 'Nieuwendammerdijk Oost',\n",
       "       'Bedrijventerrein Nieuwendammerdijk', 'Middelveldsche Akerpolder',\n",
       "       'De Aker West', 'Zamenhofstraat e.o.', 'Parooldriehoek',\n",
       "       'Rietlanden', 'Noorder IJplas', 'Overamstel', 'De Aker Oost',\n",
       "       'Nieuw Sloten Noordoost', 'Gaasperplas', 'Gaasperpark',\n",
       "       'G-buurt Oost', 'Zuidas Noord', 'Kantershof',\n",
       "       'Sportpark Middenmeer Noord', 'De Bongerd', 'Eendrachtspark',\n",
       "       'Schellingwoude West', 'Sloterweg e.o.', 'Riekerpolder',\n",
       "       'Overbraker Binnenpolder', 'Rembrandtpark Noord',\n",
       "       'Stationsplein e.o.', 'Zeeburgerdijk Oost',\n",
       "       'Bedrijvengebied Zeeburgerkade', 'Het Funen',\n",
       "       'Zeeburgereiland Zuidoost', 'Venserpolder Oost', 'Huntum',\n",
       "       'G-buurt Noord', 'Hoptille', 'Kelbergen', 'Kortvoort',\n",
       "       'Elzenhagen Zuid', 'Loenermark', 'Hakfort/Huigenbos',\n",
       "       'Banne Noordwest', 'Banne Noordoost', 'Architectenbuurt',\n",
       "       'Holendrecht West', 'Sloterdijk III Oost', 'Bretten Oost',\n",
       "       'Reigersbos Noord', 'Vondelpark Oost', 'AMC', 'Gein Zuidoost',\n",
       "       'Holendrecht Oost', 'Amstel III deel C/D Zuid', 'Gaasperdam Noord',\n",
       "       'Gaasperdam Zuid', 'Amstel III deel A/B Zuid', 'Venserpolder West',\n",
       "       'Gein Zuidwest', 'Gein Noordwest', 'Noorderstrook Oost',\n",
       "       'Reigersbos Midden', 'Reigersbos Zuid', 'Zeeburgereiland Zuidwest',\n",
       "       'Zeeburgereiland Noordwest', 'Marcanti', 'Gein Noordoost',\n",
       "       'NDSM terrein', 'Sporenburg', 'Circus/Kermisbuurt',\n",
       "       'Vondelpark West', 'Sloterpark', 'Nelson Mandelapark',\n",
       "       'Riekerhaven', 'Ecowijk', 'Park Haagseweg', 'Twiske Oost',\n",
       "       'Overhoeks', 'Nieuw Sloten Noordwest', 'Oostoever Sloterplas',\n",
       "       'BelgiÃ«plein e.o.', 'Nieuw Sloten Zuidoost', 'Buiksloterbreek',\n",
       "       'E-buurt', 'Nieuwendammerdijk Zuid', 'Houthavens Oost',\n",
       "       'Hoofdcentrum Zuidoost', 'Afrikahaven', 'Vogeltjeswei',\n",
       "       'Zuidas Zuid', 'Haveneiland Zuidwest/Rieteiland West',\n",
       "       'Oostelijke Handelskade', 'Grunder/Koningshoef',\n",
       "       'Sportpark Voorland', 'Haveneiland Noordoost', 'K-buurt Zuidoost',\n",
       "       'Steigereiland Zuid', 'Haveneiland Noordwest',\n",
       "       'Zeeburgereiland Noordoost', 'K-buurt Zuidwest', 'Kop Zuidas',\n",
       "       'Haveneiland Noord', 'Haveneiland Oost', 'Steigereiland Noord',\n",
       "       'Laan van Spartaan', 'Rieteiland Oost', 'Centrumeiland', nan,\n",
       "       'RI Oost terrein', 'Gooise Kant', 'Middeneiland Zuidwest'], dtype=object)"
      ]
     },
     "execution_count": 36,
     "metadata": {},
     "output_type": "execute_result"
    },
    {
     "data": {
      "text/html": [
       "<div>\n",
       "<style>\n",
       "    .dataframe thead tr:only-child th {\n",
       "        text-align: right;\n",
       "    }\n",
       "\n",
       "    .dataframe thead th {\n",
       "        text-align: left;\n",
       "    }\n",
       "\n",
       "    .dataframe tbody tr th {\n",
       "        vertical-align: top;\n",
       "    }\n",
       "</style>\n",
       "<table border=\"1\" class=\"dataframe\">\n",
       "  <thead>\n",
       "    <tr style=\"text-align: right;\">\n",
       "      <th></th>\n",
       "      <th>buurt</th>\n",
       "      <th>totaal</th>\n",
       "    </tr>\n",
       "  </thead>\n",
       "  <tbody>\n",
       "    <tr>\n",
       "      <th>1</th>\n",
       "      <td>A00a Kop Zeedijk</td>\n",
       "      <td>1024</td>\n",
       "    </tr>\n",
       "    <tr>\n",
       "      <th>2</th>\n",
       "      <td>A00b Oude Kerk e.o.</td>\n",
       "      <td>664</td>\n",
       "    </tr>\n",
       "    <tr>\n",
       "      <th>3</th>\n",
       "      <td>A00c Burgwallen Oost</td>\n",
       "      <td>1580</td>\n",
       "    </tr>\n",
       "    <tr>\n",
       "      <th>4</th>\n",
       "      <td>A00d Nes e.o.</td>\n",
       "      <td>360</td>\n",
       "    </tr>\n",
       "    <tr>\n",
       "      <th>5</th>\n",
       "      <td>A00e BG-terrein e.o.</td>\n",
       "      <td>618</td>\n",
       "    </tr>\n",
       "    <tr>\n",
       "      <th>6</th>\n",
       "      <td>A01a Stationsplein e.o.</td>\n",
       "      <td>3</td>\n",
       "    </tr>\n",
       "    <tr>\n",
       "      <th>7</th>\n",
       "      <td>A01b Hemelrijk</td>\n",
       "      <td>533</td>\n",
       "    </tr>\n",
       "    <tr>\n",
       "      <th>8</th>\n",
       "      <td>A01c Nieuwendijk Noord</td>\n",
       "      <td>457</td>\n",
       "    </tr>\n",
       "    <tr>\n",
       "      <th>9</th>\n",
       "      <td>A01d Spuistraat Noord</td>\n",
       "      <td>799</td>\n",
       "    </tr>\n",
       "    <tr>\n",
       "      <th>10</th>\n",
       "      <td>A01e Nieuwe Kerk e.o.</td>\n",
       "      <td>833</td>\n",
       "    </tr>\n",
       "    <tr>\n",
       "      <th>11</th>\n",
       "      <td>A01f Spuistraat Zuid</td>\n",
       "      <td>672</td>\n",
       "    </tr>\n",
       "    <tr>\n",
       "      <th>12</th>\n",
       "      <td>A01g Begijnhofbuurt</td>\n",
       "      <td>413</td>\n",
       "    </tr>\n",
       "    <tr>\n",
       "      <th>13</th>\n",
       "      <td>A01h Kalverdriehoek</td>\n",
       "      <td>281</td>\n",
       "    </tr>\n",
       "    <tr>\n",
       "      <th>14</th>\n",
       "      <td>A02a Langestraat e.o.</td>\n",
       "      <td>1838</td>\n",
       "    </tr>\n",
       "    <tr>\n",
       "      <th>15</th>\n",
       "      <td>A02b Leliegracht e.o.</td>\n",
       "      <td>1753</td>\n",
       "    </tr>\n",
       "    <tr>\n",
       "      <th>16</th>\n",
       "      <td>A02c Felix Meritisbuurt</td>\n",
       "      <td>2100</td>\n",
       "    </tr>\n",
       "    <tr>\n",
       "      <th>17</th>\n",
       "      <td>A02d Leidsegracht Noord</td>\n",
       "      <td>680</td>\n",
       "    </tr>\n",
       "    <tr>\n",
       "      <th>18</th>\n",
       "      <td>A03a Spiegelbuurt</td>\n",
       "      <td>810</td>\n",
       "    </tr>\n",
       "    <tr>\n",
       "      <th>19</th>\n",
       "      <td>A03b Gouden Bocht</td>\n",
       "      <td>141</td>\n",
       "    </tr>\n",
       "    <tr>\n",
       "      <th>20</th>\n",
       "      <td>A03c Van Loonbuurt</td>\n",
       "      <td>1462</td>\n",
       "    </tr>\n",
       "    <tr>\n",
       "      <th>21</th>\n",
       "      <td>A03d Amstelveldbuurt</td>\n",
       "      <td>1498</td>\n",
       "    </tr>\n",
       "    <tr>\n",
       "      <th>22</th>\n",
       "      <td>A03e Rembrandtpleinbuurt</td>\n",
       "      <td>513</td>\n",
       "    </tr>\n",
       "    <tr>\n",
       "      <th>23</th>\n",
       "      <td>A03f Reguliersbuurt</td>\n",
       "      <td>378</td>\n",
       "    </tr>\n",
       "    <tr>\n",
       "      <th>24</th>\n",
       "      <td>A03g Leidsegracht Zuid</td>\n",
       "      <td>605</td>\n",
       "    </tr>\n",
       "    <tr>\n",
       "      <th>25</th>\n",
       "      <td>A04a Oosterdokseiland</td>\n",
       "      <td>465</td>\n",
       "    </tr>\n",
       "    <tr>\n",
       "      <th>26</th>\n",
       "      <td>A04b Scheepvaarthuisbuurt</td>\n",
       "      <td>732</td>\n",
       "    </tr>\n",
       "    <tr>\n",
       "      <th>27</th>\n",
       "      <td>A04c Rapenburg</td>\n",
       "      <td>1032</td>\n",
       "    </tr>\n",
       "    <tr>\n",
       "      <th>28</th>\n",
       "      <td>A04d Lastage</td>\n",
       "      <td>1086</td>\n",
       "    </tr>\n",
       "    <tr>\n",
       "      <th>29</th>\n",
       "      <td>A04e Nieuwmarkt</td>\n",
       "      <td>1623</td>\n",
       "    </tr>\n",
       "    <tr>\n",
       "      <th>30</th>\n",
       "      <td>A04f Uilenburg</td>\n",
       "      <td>1152</td>\n",
       "    </tr>\n",
       "    <tr>\n",
       "      <th>...</th>\n",
       "      <td>...</td>\n",
       "      <td>...</td>\n",
       "    </tr>\n",
       "    <tr>\n",
       "      <th>453</th>\n",
       "      <td>T94b G-buurt West</td>\n",
       "      <td>3748</td>\n",
       "    </tr>\n",
       "    <tr>\n",
       "      <th>454</th>\n",
       "      <td>T94c Bijlmermuseum Noord</td>\n",
       "      <td>2256</td>\n",
       "    </tr>\n",
       "    <tr>\n",
       "      <th>455</th>\n",
       "      <td>T94d Kortvoort</td>\n",
       "      <td>2668</td>\n",
       "    </tr>\n",
       "    <tr>\n",
       "      <th>456</th>\n",
       "      <td>T94e Kelbergen</td>\n",
       "      <td>948</td>\n",
       "    </tr>\n",
       "    <tr>\n",
       "      <th>457</th>\n",
       "      <td>T94f K-buurt Midden</td>\n",
       "      <td>2342</td>\n",
       "    </tr>\n",
       "    <tr>\n",
       "      <th>458</th>\n",
       "      <td>T94g K-buurt Zuidoost</td>\n",
       "      <td>964</td>\n",
       "    </tr>\n",
       "    <tr>\n",
       "      <th>459</th>\n",
       "      <td>T94h K-buurt Zuidwest</td>\n",
       "      <td>1491</td>\n",
       "    </tr>\n",
       "    <tr>\n",
       "      <th>460</th>\n",
       "      <td>T94i Grunder/Koningshoef</td>\n",
       "      <td>1759</td>\n",
       "    </tr>\n",
       "    <tr>\n",
       "      <th>461</th>\n",
       "      <td>T94j G-buurt Oost</td>\n",
       "      <td>3142</td>\n",
       "    </tr>\n",
       "    <tr>\n",
       "      <th>462</th>\n",
       "      <td>T94k Kantershof</td>\n",
       "      <td>2196</td>\n",
       "    </tr>\n",
       "    <tr>\n",
       "      <th>463</th>\n",
       "      <td>T94l Gooise Kant</td>\n",
       "      <td>56</td>\n",
       "    </tr>\n",
       "    <tr>\n",
       "      <th>464</th>\n",
       "      <td>T94m G-buurt Noord</td>\n",
       "      <td>1826</td>\n",
       "    </tr>\n",
       "    <tr>\n",
       "      <th>465</th>\n",
       "      <td>T94n Bijlmermuseum Zuid</td>\n",
       "      <td>3083</td>\n",
       "    </tr>\n",
       "    <tr>\n",
       "      <th>466</th>\n",
       "      <td>T95a L-buurt</td>\n",
       "      <td>2921</td>\n",
       "    </tr>\n",
       "    <tr>\n",
       "      <th>467</th>\n",
       "      <td>T95b Gaasperpark</td>\n",
       "      <td>30</td>\n",
       "    </tr>\n",
       "    <tr>\n",
       "      <th>468</th>\n",
       "      <td>T95c Gaasperplas</td>\n",
       "      <td>39</td>\n",
       "    </tr>\n",
       "    <tr>\n",
       "      <th>469</th>\n",
       "      <td>T96a Holendrecht Noordwest</td>\n",
       "      <td>2923</td>\n",
       "    </tr>\n",
       "    <tr>\n",
       "      <th>470</th>\n",
       "      <td>T96b Reigersbos Noord</td>\n",
       "      <td>4386</td>\n",
       "    </tr>\n",
       "    <tr>\n",
       "      <th>471</th>\n",
       "      <td>T96c Holendrecht Oost</td>\n",
       "      <td>2493</td>\n",
       "    </tr>\n",
       "    <tr>\n",
       "      <th>472</th>\n",
       "      <td>T96d Gaasperdam Noord</td>\n",
       "      <td>2026</td>\n",
       "    </tr>\n",
       "    <tr>\n",
       "      <th>473</th>\n",
       "      <td>T96e Gaasperdam Zuid</td>\n",
       "      <td>1512</td>\n",
       "    </tr>\n",
       "    <tr>\n",
       "      <th>474</th>\n",
       "      <td>T96f Reigersbos Midden</td>\n",
       "      <td>2455</td>\n",
       "    </tr>\n",
       "    <tr>\n",
       "      <th>475</th>\n",
       "      <td>T96g Reigersbos Zuid</td>\n",
       "      <td>2513</td>\n",
       "    </tr>\n",
       "    <tr>\n",
       "      <th>476</th>\n",
       "      <td>T97a Gein Noordwest</td>\n",
       "      <td>3016</td>\n",
       "    </tr>\n",
       "    <tr>\n",
       "      <th>477</th>\n",
       "      <td>T97b Gein Zuidwest</td>\n",
       "      <td>1704</td>\n",
       "    </tr>\n",
       "    <tr>\n",
       "      <th>478</th>\n",
       "      <td>T97c Gein Noordoost</td>\n",
       "      <td>3406</td>\n",
       "    </tr>\n",
       "    <tr>\n",
       "      <th>479</th>\n",
       "      <td>T97d Gein Zuidoost</td>\n",
       "      <td>3351</td>\n",
       "    </tr>\n",
       "    <tr>\n",
       "      <th>480</th>\n",
       "      <td>T98a Dorp Driemond</td>\n",
       "      <td>1457</td>\n",
       "    </tr>\n",
       "    <tr>\n",
       "      <th>481</th>\n",
       "      <td>T98b Landelijk Gebied Driemond</td>\n",
       "      <td>68</td>\n",
       "    </tr>\n",
       "    <tr>\n",
       "      <th>482</th>\n",
       "      <td>Amsterdam</td>\n",
       "      <td>844952</td>\n",
       "    </tr>\n",
       "  </tbody>\n",
       "</table>\n",
       "<p>482 rows × 2 columns</p>\n",
       "</div>"
      ],
      "text/plain": [
       "                              buurt  totaal\n",
       "1                  A00a Kop Zeedijk    1024\n",
       "2               A00b Oude Kerk e.o.     664\n",
       "3              A00c Burgwallen Oost    1580\n",
       "4                     A00d Nes e.o.     360\n",
       "5              A00e BG-terrein e.o.     618\n",
       "6           A01a Stationsplein e.o.       3\n",
       "7                    A01b Hemelrijk     533\n",
       "8            A01c Nieuwendijk Noord     457\n",
       "9             A01d Spuistraat Noord     799\n",
       "10            A01e Nieuwe Kerk e.o.     833\n",
       "11             A01f Spuistraat Zuid     672\n",
       "12              A01g Begijnhofbuurt     413\n",
       "13              A01h Kalverdriehoek     281\n",
       "14            A02a Langestraat e.o.    1838\n",
       "15            A02b Leliegracht e.o.    1753\n",
       "16          A02c Felix Meritisbuurt    2100\n",
       "17          A02d Leidsegracht Noord     680\n",
       "18                A03a Spiegelbuurt     810\n",
       "19                A03b Gouden Bocht     141\n",
       "20               A03c Van Loonbuurt    1462\n",
       "21             A03d Amstelveldbuurt    1498\n",
       "22         A03e Rembrandtpleinbuurt     513\n",
       "23              A03f Reguliersbuurt     378\n",
       "24           A03g Leidsegracht Zuid     605\n",
       "25            A04a Oosterdokseiland     465\n",
       "26        A04b Scheepvaarthuisbuurt     732\n",
       "27                   A04c Rapenburg    1032\n",
       "28                     A04d Lastage    1086\n",
       "29                  A04e Nieuwmarkt    1623\n",
       "30                   A04f Uilenburg    1152\n",
       "..                              ...     ...\n",
       "453               T94b G-buurt West    3748\n",
       "454        T94c Bijlmermuseum Noord    2256\n",
       "455                  T94d Kortvoort    2668\n",
       "456                  T94e Kelbergen     948\n",
       "457             T94f K-buurt Midden    2342\n",
       "458           T94g K-buurt Zuidoost     964\n",
       "459           T94h K-buurt Zuidwest    1491\n",
       "460        T94i Grunder/Koningshoef    1759\n",
       "461               T94j G-buurt Oost    3142\n",
       "462                 T94k Kantershof    2196\n",
       "463                T94l Gooise Kant      56\n",
       "464              T94m G-buurt Noord    1826\n",
       "465         T94n Bijlmermuseum Zuid    3083\n",
       "466                    T95a L-buurt    2921\n",
       "467                T95b Gaasperpark      30\n",
       "468                T95c Gaasperplas      39\n",
       "469      T96a Holendrecht Noordwest    2923\n",
       "470           T96b Reigersbos Noord    4386\n",
       "471           T96c Holendrecht Oost    2493\n",
       "472           T96d Gaasperdam Noord    2026\n",
       "473            T96e Gaasperdam Zuid    1512\n",
       "474          T96f Reigersbos Midden    2455\n",
       "475            T96g Reigersbos Zuid    2513\n",
       "476             T97a Gein Noordwest    3016\n",
       "477              T97b Gein Zuidwest    1704\n",
       "478             T97c Gein Noordoost    3406\n",
       "479              T97d Gein Zuidoost    3351\n",
       "480              T98a Dorp Driemond    1457\n",
       "481  T98b Landelijk Gebied Driemond      68\n",
       "482                       Amsterdam  844952\n",
       "\n",
       "[482 rows x 2 columns]"
      ]
     },
     "execution_count": 36,
     "metadata": {},
     "output_type": "execute_result"
    }
   ],
   "source": [
    "df_adressen['Feitelijk gebruik'].unique()\n",
    "df_adressen['Naam buurt'].unique()\n",
    "df_buurten_bevolking = pd.read_excel('https://www.ois.amsterdam.nl/download/11-bevolking-buurten-1-januari-2012-2017',skiprows=3,usecols=[0,5])\n",
    "df_buurten_bevolking = df_buurten_bevolking.dropna()\n",
    "df_buurten_bevolking"
   ]
  },
  {
   "cell_type": "markdown",
   "metadata": {},
   "source": [
    "### Zooming in on my neighbourhood\n",
    "\n",
    "I live in De Wittenstraat. Let's see if I can find my neighbourhood. Let's search through the neighbourhood names with Python instead of cmd+f, for fun.\n"
   ]
  },
  {
   "cell_type": "code",
   "execution_count": 37,
   "metadata": {},
   "outputs": [
    {
     "data": {
      "text/plain": [
       "['De Wittenbuurt Noord', 'De Wittenbuurt Zuid', 'Wittenburg']"
      ]
     },
     "execution_count": 37,
     "metadata": {},
     "output_type": "execute_result"
    }
   ],
   "source": [
    "\n",
    "buurten = df_adressen['Naam buurt'].dropna().unique()\n",
    "indexes_witten = [i for i, s in enumerate(buurten) if 'Witten' in s]\n",
    "wittenbuurten = [buurten[i] for i in indexes_witten]\n",
    "wittenbuurten\n"
   ]
  },
  {
   "cell_type": "code",
   "execution_count": 38,
   "metadata": {},
   "outputs": [
    {
     "data": {
      "text/plain": [
       "1454"
      ]
     },
     "execution_count": 38,
     "metadata": {},
     "output_type": "execute_result"
    },
    {
     "data": {
      "text/plain": [
       "array(['Helmersbuurt', 'Overtoomse Sluis', 'Jordaan', ...,\n",
       "       'Noordelijke IJ-oevers West', 'Noordelijke IJ-oevers West',\n",
       "       'Noordelijke IJ-oevers West'], dtype=object)"
      ]
     },
     "execution_count": 38,
     "metadata": {},
     "output_type": "execute_result"
    },
    {
     "name": "stdout",
     "output_type": "stream",
     "text": [
      "adressen: 8295\n"
     ]
    }
   ],
   "source": [
    "# We get 3 results, of which we only need te first 2 (Wittenburg is a different neighbourhood in centrum-east)\n",
    "# Let's focus on De Wittenbuurt Noord & Zuid for this demo. I live there, and it's only 1454 rows\n",
    "\n",
    "df_adressen_witten = df_adressen[(df_adressen['Naam buurt'] == \"De Wittenbuurt Noord\") \n",
    "                                 | (df_adressen['Naam buurt'] == \"De Wittenbuurt Zuid\")]\n",
    "df_adressen_witten.index.size\n",
    "\n",
    "# Let's also create a dataframe for the larger area of where I live, de Staatsliedenbuurt. 8295 entries.\n",
    "df_adressen['Naam Wijk'].dropna().values\n",
    "df_staatsliedenbuurt = df_adressen[(df_adressen['Naam Wijk'] == \"Staatsliedenbuurt\")]\n",
    "# df_staatsliedenbuurt.head()\n",
    "print(\"adressen: \" + str(len(df_staatsliedenbuurt.index)))"
   ]
  },
  {
   "cell_type": "markdown",
   "metadata": {},
   "source": [
    "## Now for some routing\n",
    "\n",
    "To get walking distances, we need a routing service. I installed the excellent OSRM project locally with docker via http://router.project-osrm.org/ and used the latest information for\n",
    "The Netherlands via http://download.geofabrik.de.\n",
    "\n",
    "OSRM lets you create a matrix that shows the walking duration for a series of points. We can create a 1 by many matrix for each address, and pick out the worm hotel with the shortest walking duration. The OSMR [doesn't return distance](https://github.com/Project-OSRM/osrm-backend/issues/1353), but since walking speed is set at 5 km/h by default and walking penalties are only given for sandy terrain and the like, we can reasonably calculate the distance in meters from the duration information.\n",
    "\n",
    "I'll first explore how to get the right information from the API, and then create a function which picks the nearest worm hotel for an address, and also prints the walking duration in minutes and distance in meters.\n"
   ]
  },
  {
   "cell_type": "markdown",
   "metadata": {},
   "source": [
    "## First some exploration by hand"
   ]
  },
  {
   "cell_type": "code",
   "execution_count": 39,
   "metadata": {},
   "outputs": [
    {
     "data": {
      "text/plain": [
       "'http://0.0.0.0:5000/table/v1/foot/4.877951499999995,52.3824856;4.888706,52.356007;4.908527,52.349857;4.871422,52.391292;4.945789,52.36213;4.910984,52.382154;4.864346,52.3687925;4.926176,52.3370046;4.971355,52.37154;5.004663,52.345872;4.861766,52.376636;4.923331,52.366302;4.9177,52.351515;4.887118,52.356278;4.887075,52.35694;5.000672,52.353723;4.9758081,52.3612775;4.9457027,52.3681734;4.9939396,52.3572812;4.9520167,52.3340925;4.877403,52.313325;4.9121,52.3511739;4.8247244,52.3604001;4.8815228,52.3514622;4.9442745,52.3920048;4.9464001,52.3773338;4.8999979,52.4053634;4.9392225,52.3594959;4.7711392,52.3800813;4.9461426,52.3742948;4.8538532,52.3676329;4.8515358,52.2839112;4.9365725,52.3703089;4.8761048,52.3900331;4.8761638,52.3813059;4.8487945,52.3403283;4.8980131,52.355381;4.9840798,52.2981711;4.9370124,52.3571305;4.9071004,52.3491685?sources=0'"
      ]
     },
     "execution_count": 39,
     "metadata": {},
     "output_type": "execute_result"
    },
    {
     "data": {
      "text/plain": [
       "0"
      ]
     },
     "execution_count": 39,
     "metadata": {},
     "output_type": "execute_result"
    },
    {
     "data": {
      "text/plain": [
       "[2499.2,\n",
       " 3645.8,\n",
       " 1048.8,\n",
       " 4231.6,\n",
       " 2169.1,\n",
       " 1483.8,\n",
       " 5273.8,\n",
       " 7029.6,\n",
       " 7985.1,\n",
       " 1387.7,\n",
       " 2994.6,\n",
       " 3918.9,\n",
       " 2450.6,\n",
       " 2402.2,\n",
       " 7914.4,\n",
       " 5714,\n",
       " 4101.7,\n",
       " 8331.7,\n",
       " 6517.4,\n",
       " 7247.1,\n",
       " 3579.1,\n",
       " 3995.3,\n",
       " 2849.9,\n",
       " 4062,\n",
       " 3992,\n",
       " 4135.3,\n",
       " 4136.9,\n",
       " 5867.5,\n",
       " 3821.1,\n",
       " 2157.7,\n",
       " 9035.3,\n",
       " 3539.6,\n",
       " 821.1,\n",
       " 162.2,\n",
       " 4528,\n",
       " 2895,\n",
       " 10753,\n",
       " 4293,\n",
       " 3623.6]"
      ]
     },
     "execution_count": 39,
     "metadata": {},
     "output_type": "execute_result"
    },
    {
     "name": "stdout",
     "output_type": "stream",
     "text": [
      "Seconds I have to walk: 162.2\n",
      "Index of the wormhotel in the wormhotel dataset: 33\n"
     ]
    },
    {
     "data": {
      "text/plain": [
       "OBJECTNUMMER                                          42\n",
       "Straatnaam         hoek jacob catskade - de wittenstraat\n",
       "Initiatiefnemer                                    hilde\n",
       "Email                      amsterdam+a209@wormenhotel.nl\n",
       "Aantal_bewoners                                       15\n",
       "Soort_afval                                           GF\n",
       "Gebruik                  Toestemming van initiatiefnemer\n",
       "Startjaar                                           2017\n",
       "Foto                                                 NaN\n",
       "COORDS                       POINT(4.8761638,52.3813059)\n",
       "LNG                                            4,8761638\n",
       "LAT                                           52,3813059\n",
       "Unnamed: 12                                          NaN\n",
       "locatie_cleaned                     4.8761638,52.3813059\n",
       "lng                                              4.87616\n",
       "lat                                              52.3813\n",
       "Name: 33, dtype: object"
      ]
     },
     "execution_count": 39,
     "metadata": {},
     "output_type": "execute_result"
    }
   ],
   "source": [
    "close_to_my_address = \"4.877951499999995,52.3824856\"\n",
    "buurtcompostlocaties = df_buurtcompost.locatie_cleaned.values\n",
    "buurtcompostlocaties_string = \";\".join(buurtcompostlocaties)\n",
    "\n",
    "profile = \"foot\"\n",
    "\n",
    "# URL format for a htpp API call for getting a matrix is http://0.0.0.0:5000/table/v1/walking/\n",
    "# 52.3548300687;4.7856975691585,52.349415837928;4.7941351619763,52.357223885252?sources=0\n",
    "# 'sources=0' indicates that we only want the distances from the first set of coordinates\n",
    "# to all the others. As a test I construct a URL that gives me the walking duration from my\n",
    "# address to all the worm hotels.\n",
    " \n",
    "testURL_wormhotel_distance_from_my_address = \"http://0.0.0.0:5000/table/v1/\" + profile + \"/\" \\\n",
    "                                        + close_to_my_address + \";\" \\\n",
    "                                        + buurtcompostlocaties_string \\\n",
    "                                        + \"?sources=0\"\n",
    "                      \n",
    "testURL_wormhotel_distance_from_my_address\n",
    "\n",
    "\n",
    "# Let's run a request and only select the duration array\n",
    "import requests\n",
    "distances_from_testURL = requests.get(testURL_wormhotel_distance_from_my_address).json()[\"durations\"][0]\n",
    "\n",
    "# This gives us a durations array. The first is 0 and the duration to my own address, so we can remove that:\n",
    "distances_from_testURL.pop(0)\n",
    "distances_from_testURL\n",
    "\n",
    "# Give us the duration and the index of the wormhotel that's closest\n",
    "print(\"Seconds I have to walk: \" + str(min(distances_from_testURL)))\n",
    "print(\"Index of the wormhotel in the wormhotel dataset: \" + str(distances_from_testURL.index(min(distances_from_testURL))))\n",
    "\n",
    "# Let's find out where the nearest wormhotel to my house is! 🎉\n",
    "df_buurtcompost.iloc[33]"
   ]
  },
  {
   "cell_type": "markdown",
   "metadata": {
    "collapsed": true
   },
   "source": [
    "^^^^^^\n",
    "\n",
    "Super cool! Turns out I only have to walk 2.7 minutes to get to a worm hotel! Let's wrap this up in a function so we can encode the whole dataset with this information\n",
    "\n",
    "## Creating a function"
   ]
  },
  {
   "cell_type": "code",
   "execution_count": 40,
   "metadata": {
    "collapsed": true
   },
   "outputs": [],
   "source": [
    "import requests\n",
    "buurtcompostlocaties = df_buurtcompost.locatie_cleaned.values\n",
    "buurtcompostlocaties_string = \";\".join(buurtcompostlocaties)\n",
    "\n",
    "def compute_nearest_target_information(cell):\n",
    "    current_coordinates = cell\n",
    "    profile = \"foot\"\n",
    "    requestURL = \"http://0.0.0.0:5000/table/v1/\" + profile + \"/\" \\\n",
    "                                        + current_coordinates + \";\" \\\n",
    "                                        + buurtcompostlocaties_string \\\n",
    "                                        + \"?sources=0\"\n",
    "    distances = requests.get(requestURL).json()[\"durations\"][0]\n",
    "    distances.pop(0)\n",
    "    seconds = min(distances)\n",
    "    meters = seconds * 1.388888889\n",
    "    index = distances.index(min(distances))\n",
    "    buurtcompost_values = df_buurtcompost.iloc[index].values    \n",
    "    return (seconds, meters, index, buurtcompost_values)\n",
    "\n",
    "\n"
   ]
  },
  {
   "cell_type": "code",
   "execution_count": 41,
   "metadata": {},
   "outputs": [
    {
     "data": {
      "text/plain": [
       "(162.2,\n",
       " 225.27777779579998,\n",
       " 33,\n",
       " array([42, 'hoek jacob catskade - de wittenstraat', 'hilde',\n",
       "        'amsterdam+a209@wormenhotel.nl', 15, 'GF',\n",
       "        'Toestemming van initiatiefnemer', 2017, nan,\n",
       "        'POINT(4.8761638,52.3813059)', '4,8761638', '52,3813059', nan,\n",
       "        '4.8761638,52.3813059', 4.8761637999999996, 52.381305900000001], dtype=object))"
      ]
     },
     "execution_count": 41,
     "metadata": {},
     "output_type": "execute_result"
    },
    {
     "data": {
      "text/plain": [
       "(949.3, 1318.4722223277, 5, array([9, 'schimmelstraat 44',\n",
       "        'stadsboerderij zimmerhoeve, annelijn van amsterdam',\n",
       "        'info@zimmerhoeve.nl', 0, 'GF', 'Toestemming van initiatiefnemer',\n",
       "        0, nan, 'POINT(4.864346,52.3687925)', '4,864346', '52,3687925', nan,\n",
       "        '4.864346,52.3687925', 4.8643460000000003, 52.368792499999998], dtype=object))"
      ]
     },
     "execution_count": 41,
     "metadata": {},
     "output_type": "execute_result"
    }
   ],
   "source": [
    "# Test output\n",
    "compute_nearest_target_information(\"4.877951499999995,52.3824856\")\n",
    "\n",
    "compute_nearest_target_information(\"4.8796727,52.3712739\")"
   ]
  },
  {
   "cell_type": "markdown",
   "metadata": {},
   "source": [
    "## Success!\n",
    "\n",
    "Neat! Now we can apply this function to the addresses in Amsterdam. First, lets apply this to small amount of people and also time it, so we can see how long our computer needs to work on the whole dataset."
   ]
  },
  {
   "cell_type": "code",
   "execution_count": 14,
   "metadata": {},
   "outputs": [
    {
     "ename": "NameError",
     "evalue": "name 'df_adressen_witten' is not defined",
     "output_type": "error",
     "traceback": [
      "\u001b[0;31m-------------------------------------------\u001b[0m",
      "\u001b[0;31mNameError\u001b[0m Traceback (most recent call last)",
      "\u001b[0;32m<timed exec>\u001b[0m in \u001b[0;36m<module>\u001b[0;34m()\u001b[0m\n",
      "\u001b[0;31mNameError\u001b[0m: name 'df_adressen_witten' is not defined"
     ]
    }
   ],
   "source": [
    "%%time\n",
    "df_adressen_witten.is_copy = False\n",
    "df_adressen_witten['Nearest wormhotel information'] = df_adressen_witten['locatie_cleaned'].apply(np.vectorize(compute_nearest_target_information))\n",
    "df_adressen_witten"
   ]
  },
  {
   "cell_type": "code",
   "execution_count": null,
   "metadata": {
    "collapsed": true
   },
   "outputs": [],
   "source": []
  },
  {
   "cell_type": "code",
   "execution_count": null,
   "metadata": {
    "collapsed": true
   },
   "outputs": [],
   "source": []
  },
  {
   "cell_type": "markdown",
   "metadata": {},
   "source": [
    "Ok, that's 87 seconds, which we need to multiply by 351 to get to the seconds it will take us for the whole set. This would be 8.5 hours.\n",
    "\n",
    "Let's also convert and time the Staatsliedenbuurt set."
   ]
  },
  {
   "cell_type": "code",
   "execution_count": 15,
   "metadata": {},
   "outputs": [
    {
     "ename": "NameError",
     "evalue": "name 'df_staatsliedenbuurt' is not defined",
     "output_type": "error",
     "traceback": [
      "\u001b[0;31m-------------------------------------------\u001b[0m",
      "\u001b[0;31mNameError\u001b[0m Traceback (most recent call last)",
      "\u001b[0;32m<timed exec>\u001b[0m in \u001b[0;36m<module>\u001b[0;34m()\u001b[0m\n",
      "\u001b[0;31mNameError\u001b[0m: name 'df_staatsliedenbuurt' is not defined"
     ]
    }
   ],
   "source": [
    "%%time\n",
    "import numpy as np\n",
    "df_staatsliedenbuurt.is_copy = False # To surpress SettingWithCopyWarning, see https://stackoverflow.com/questions/38809796/pandas-still-getting-settingwithcopywarning-even-after-using-loc/38810015#38810015\n",
    "df_staatsliedenbuurt['Nearest wormhotel information'] = df_staatsliedenbuurt['locatie_cleaned'].apply(np.vectorize(compute_nearest_target_information))\n"
   ]
  },
  {
   "cell_type": "code",
   "execution_count": 16,
   "metadata": {},
   "outputs": [
    {
     "ename": "NameError",
     "evalue": "name 'df_staatsliedenbuurt' is not defined",
     "output_type": "error",
     "traceback": [
      "\u001b[0;31m-------------------------------------------\u001b[0m",
      "\u001b[0;31mNameError\u001b[0m Traceback (most recent call last)",
      "\u001b[0;32m<ipython-input-16-1f0e6aa2b98f>\u001b[0m in \u001b[0;36m<module>\u001b[0;34m()\u001b[0m\n\u001b[0;32m----> 1\u001b[0;31m \u001b[0mdf_staatsliedenbuurt\u001b[0m\u001b[0;34m\u001b[0m\u001b[0m\n\u001b[0m",
      "\u001b[0;31mNameError\u001b[0m: name 'df_staatsliedenbuurt' is not defined"
     ]
    }
   ],
   "source": [
    "df_staatsliedenbuurt"
   ]
  },
  {
   "cell_type": "markdown",
   "metadata": {
    "collapsed": true
   },
   "source": [
    "It ran 8:34 minutes. Let's get a sample and then run the whole thing at night :)"
   ]
  },
  {
   "cell_type": "code",
   "execution_count": null,
   "metadata": {},
   "outputs": [],
   "source": [
    "%%time\n",
    "df_adressen_sample = df_adressen.sample(n=3000)\n",
    "df_adressen_sample.is_copy = False\n",
    "df_adressen_sample['Nearest wormhotel information'] = df_adressen_sample['locatie_cleaned'].apply(\n",
    "    np.vectorize(compute_nearest_target_information))\n",
    "df_adressen_sample.to_csv('df_adressen_sample.csv')"
   ]
  },
  {
   "cell_type": "code",
   "execution_count": null,
   "metadata": {},
   "outputs": [],
   "source": [
    "%%time\n",
    "df_adressen.is_copy = False\n",
    "df_adressen['Nearest wormhotel information'] = df_adressen['locatie_cleaned'].apply(\n",
    "    np.vectorize(compute_nearest_target_information))\n",
    "df_adressen.to_csv('df_adressen.csv')\n",
    "df_adressen.to_excel('df_adressen.xls')\n"
   ]
  },
  {
   "cell_type": "markdown",
   "metadata": {},
   "source": [
    "## Add the hotel information as seperate columns"
   ]
  },
  {
   "cell_type": "code",
   "execution_count": null,
   "metadata": {},
   "outputs": [],
   "source": [
    "len(df_adressen['nearest_hotel_values'][45])\n",
    "df_adressen['nearest_hotel_values'][45]\n",
    "\n",
    "df_buurtcompost.columns"
   ]
  },
  {
   "cell_type": "code",
   "execution_count": 17,
   "metadata": {},
   "outputs": [
    {
     "ename": "NameError",
     "evalue": "name 'df_adressen' is not defined",
     "output_type": "error",
     "traceback": [
      "\u001b[0;31m-------------------------------------------\u001b[0m",
      "\u001b[0;31mNameError\u001b[0m Traceback (most recent call last)",
      "\u001b[0;32m<ipython-input-17-05a7de75b1ca>\u001b[0m in \u001b[0;36m<module>\u001b[0;34m()\u001b[0m\n\u001b[1;32m      5\u001b[0m \u001b[0;34m\u001b[0m\u001b[0m\n\u001b[1;32m      6\u001b[0m df_adressen['nearest_hotel_duration'], df_adressen['nearest_hotel_meters'], df_adressen[\n\u001b[0;32m----> 7\u001b[0;31m     'nearest_hotel_index'], df_adressen['nearest_hotel_values'] = zip(*df_adressen['Nearest wormhotel information'])\n\u001b[0m\u001b[1;32m      8\u001b[0m \u001b[0;34m\u001b[0m\u001b[0m\n\u001b[1;32m      9\u001b[0m \u001b[0mdf_adressen\u001b[0m\u001b[0;34m[\u001b[0m\u001b[0;34m'hotel_OBJECTNUMMER'\u001b[0m\u001b[0;34m]\u001b[0m\u001b[0;34m,\u001b[0m \u001b[0mdf_adressen\u001b[0m\u001b[0;34m[\u001b[0m\u001b[0;34m'hotel_Straatnaam'\u001b[0m\u001b[0;34m]\u001b[0m\u001b[0;34m,\u001b[0m \u001b[0mdf_adressen\u001b[0m\u001b[0;34m[\u001b[0m\u001b[0;34m'hotel_Initiatiefnemer'\u001b[0m\u001b[0;34m]\u001b[0m\u001b[0;34m,\u001b[0m     \u001b[0mdf_adressen\u001b[0m\u001b[0;34m[\u001b[0m\u001b[0;34m'hotel_Email'\u001b[0m\u001b[0;34m]\u001b[0m\u001b[0;34m,\u001b[0m \u001b[0mdf_adressen\u001b[0m\u001b[0;34m[\u001b[0m\u001b[0;34m'hotel_Aantal_bewoners'\u001b[0m\u001b[0;34m]\u001b[0m\u001b[0;34m,\u001b[0m \u001b[0mdf_adressen\u001b[0m\u001b[0;34m[\u001b[0m\u001b[0;34m'hotel_Soort_afval'\u001b[0m\u001b[0;34m,\u001b[0m \u001b[0;34m]\u001b[0m\u001b[0;34m,\u001b[0m     \u001b[0mdf_adressen\u001b[0m\u001b[0;34m[\u001b[0m\u001b[0;34m'hotel_Gebruik'\u001b[0m\u001b[0;34m]\u001b[0m\u001b[0;34m,\u001b[0m \u001b[0mdf_adressen\u001b[0m\u001b[0;34m[\u001b[0m\u001b[0;34m'hotel_Startjaar'\u001b[0m\u001b[0;34m]\u001b[0m\u001b[0;34m,\u001b[0m \u001b[0mdf_adressen\u001b[0m\u001b[0;34m[\u001b[0m\u001b[0;34m'hotel_Foto'\u001b[0m\u001b[0;34m]\u001b[0m\u001b[0;34m,\u001b[0m     \u001b[0mdf_adressen\u001b[0m\u001b[0;34m[\u001b[0m\u001b[0;34m'hotel_COORDS'\u001b[0m\u001b[0;34m]\u001b[0m\u001b[0;34m,\u001b[0m \u001b[0mdf_adressen\u001b[0m\u001b[0;34m[\u001b[0m\u001b[0;34m'hotel_LNG'\u001b[0m\u001b[0;34m]\u001b[0m\u001b[0;34m,\u001b[0m \u001b[0mdf_adressen\u001b[0m\u001b[0;34m[\u001b[0m\u001b[0;34m'hotel_LAT'\u001b[0m\u001b[0;34m]\u001b[0m\u001b[0;34m,\u001b[0m \u001b[0mdf_adressen\u001b[0m\u001b[0;34m[\u001b[0m\u001b[0;34m'hotel_Unnamed: 12'\u001b[0m\u001b[0;34m]\u001b[0m\u001b[0;34m,\u001b[0m     \u001b[0mdf_adressen\u001b[0m\u001b[0;34m[\u001b[0m\u001b[0;34m'hotel_locatie_cleaned'\u001b[0m\u001b[0;34m]\u001b[0m\u001b[0;34m,\u001b[0m \u001b[0mdf_adressen\u001b[0m\u001b[0;34m[\u001b[0m\u001b[0;34m'hotel_lng'\u001b[0m\u001b[0;34m]\u001b[0m\u001b[0;34m,\u001b[0m \u001b[0mdf_adressen\u001b[0m\u001b[0;34m[\u001b[0m\u001b[0;34m'hotel_lat'\u001b[0m\u001b[0;34m]\u001b[0m \u001b[0;34m=\u001b[0m \u001b[0mzip\u001b[0m\u001b[0;34m(\u001b[0m\u001b[0;34m*\u001b[0m\u001b[0mdf_adressen\u001b[0m\u001b[0;34m[\u001b[0m\u001b[0;34m'nearest_hotel_values'\u001b[0m\u001b[0;34m]\u001b[0m\u001b[0;34m)\u001b[0m\u001b[0;34m\u001b[0m\u001b[0m\n",
      "\u001b[0;31mNameError\u001b[0m: name 'df_adressen' is not defined"
     ]
    }
   ],
   "source": [
    "# Let's split it! Value inside df_adressen['Nearest wormhotel information'] are\n",
    "# 'seconds, meters, index, buurtcompost_values', and buurtcompostvalues are\n",
    "#  'OBJECTNUMMER', 'Straatnaam', 'Initiatiefnemer', 'Email', 'Aantal_bewoners', 'Soort_afval',\n",
    "# 'Gebruik', 'Startjaar', 'Foto', 'COORDS', 'LNG', 'LAT', 'Unnamed: 12', 'locatie_cleaned''\n",
    "\n",
    "df_adressen['nearest_hotel_duration'], df_adressen['nearest_hotel_meters'], df_adressen[\n",
    "    'nearest_hotel_index'], df_adressen['nearest_hotel_values'] = zip(*df_adressen['Nearest wormhotel information'])\n",
    "\n",
    "df_adressen['hotel_OBJECTNUMMER'], df_adressen['hotel_Straatnaam'], df_adressen['hotel_Initiatiefnemer'], \\\n",
    "    df_adressen['hotel_Email'], df_adressen['hotel_Aantal_bewoners'], df_adressen['hotel_Soort_afval', ], \\\n",
    "    df_adressen['hotel_Gebruik'], df_adressen['hotel_Startjaar'], df_adressen['hotel_Foto'], \\\n",
    "    df_adressen['hotel_COORDS'], df_adressen['hotel_LNG'], df_adressen['hotel_LAT'], df_adressen['hotel_Unnamed: 12'], \\\n",
    "    df_adressen['hotel_locatie_cleaned'], df_adressen['hotel_lng'], df_adressen['hotel_lat'] = zip(*df_adressen['nearest_hotel_values'])\n"
   ]
  },
  {
   "cell_type": "markdown",
   "metadata": {},
   "source": [
    "# Trying things out: let's plot a heatmap"
   ]
  },
  {
   "cell_type": "code",
   "execution_count": 18,
   "metadata": {},
   "outputs": [
    {
     "ename": "NameError",
     "evalue": "name 'df_adressen' is not defined",
     "output_type": "error",
     "traceback": [
      "\u001b[0;31m-------------------------------------------\u001b[0m",
      "\u001b[0;31mNameError\u001b[0m Traceback (most recent call last)",
      "\u001b[0;32m<ipython-input-18-6eb6247adeff>\u001b[0m in \u001b[0;36m<module>\u001b[0;34m()\u001b[0m\n\u001b[1;32m      1\u001b[0m \u001b[0mInteractiveShell\u001b[0m\u001b[0;34m.\u001b[0m\u001b[0mast_node_interactivity\u001b[0m \u001b[0;34m=\u001b[0m \u001b[0;34m\"all\"\u001b[0m\u001b[0;34m\u001b[0m\u001b[0m\n\u001b[1;32m      2\u001b[0m \u001b[0;31m# df_adressen[df_adressen['Naam gebiedsgerichtwerkengebied'] == \"Westerpark\"]\u001b[0m\u001b[0;34m\u001b[0m\u001b[0;34m\u001b[0m\u001b[0m\n\u001b[0;32m----> 3\u001b[0;31m \u001b[0mdf_active_dataset\u001b[0m \u001b[0;34m=\u001b[0m \u001b[0mdf_adressen\u001b[0m\u001b[0;34m[\u001b[0m\u001b[0mdf_adressen\u001b[0m\u001b[0;34m[\u001b[0m\u001b[0;34m'Naam gebiedsgerichtwerkengebied'\u001b[0m\u001b[0;34m]\u001b[0m \u001b[0;34m==\u001b[0m \u001b[0;34m\"Westerpark\"\u001b[0m\u001b[0;34m]\u001b[0m\u001b[0;34m\u001b[0m\u001b[0m\n\u001b[0m",
      "\u001b[0;31mNameError\u001b[0m: name 'df_adressen' is not defined"
     ]
    }
   ],
   "source": [
    "InteractiveShell.ast_node_interactivity = \"all\"\n",
    "# df_adressen[df_adressen['Naam gebiedsgerichtwerkengebied'] == \"Westerpark\"]\n",
    "df_active_dataset = df_adressen[df_adressen['Naam gebiedsgerichtwerkengebied'] == \"Westerpark\"]"
   ]
  },
  {
   "cell_type": "code",
   "execution_count": 19,
   "metadata": {},
   "outputs": [
    {
     "ename": "NameError",
     "evalue": "name 'df_active_dataset' is not defined",
     "output_type": "error",
     "traceback": [
      "\u001b[0;31m-------------------------------------------\u001b[0m",
      "\u001b[0;31mNameError\u001b[0m Traceback (most recent call last)",
      "\u001b[0;32m<ipython-input-19-ff645004af72>\u001b[0m in \u001b[0;36m<module>\u001b[0;34m()\u001b[0m\n\u001b[0;32m----> 1\u001b[0;31m \u001b[0mdf_active_dataset\u001b[0m\u001b[0;34m\u001b[0m\u001b[0m\n\u001b[0m",
      "\u001b[0;31mNameError\u001b[0m: name 'df_active_dataset' is not defined"
     ]
    }
   ],
   "source": [
    "df_active_dataset"
   ]
  },
  {
   "cell_type": "code",
   "execution_count": 20,
   "metadata": {
    "collapsed": true
   },
   "outputs": [],
   "source": [
    "import folium\n",
    "from folium.plugins import HeatMap"
   ]
  },
  {
   "cell_type": "code",
   "execution_count": 21,
   "metadata": {},
   "outputs": [
    {
     "ename": "NameError",
     "evalue": "name 'df_active_dataset' is not defined",
     "output_type": "error",
     "traceback": [
      "\u001b[0;31m-------------------------------------------\u001b[0m",
      "\u001b[0;31mNameError\u001b[0m Traceback (most recent call last)",
      "\u001b[0;32m<ipython-input-21-1c2565dd1e79>\u001b[0m in \u001b[0;36m<module>\u001b[0;34m()\u001b[0m\n\u001b[0;32m----> 1\u001b[0;31m \u001b[0mmax_amount\u001b[0m \u001b[0;34m=\u001b[0m \u001b[0mfloat\u001b[0m\u001b[0;34m(\u001b[0m\u001b[0mdf_active_dataset\u001b[0m\u001b[0;34m[\u001b[0m\u001b[0;34m'nearest_hotel_duration'\u001b[0m\u001b[0;34m]\u001b[0m\u001b[0;34m.\u001b[0m\u001b[0mmax\u001b[0m\u001b[0;34m(\u001b[0m\u001b[0;34m)\u001b[0m\u001b[0;34m)\u001b[0m\u001b[0;34m\u001b[0m\u001b[0m\n\u001b[0m\u001b[1;32m      2\u001b[0m \u001b[0mhmap\u001b[0m \u001b[0;34m=\u001b[0m \u001b[0mfolium\u001b[0m\u001b[0;34m.\u001b[0m\u001b[0mMap\u001b[0m\u001b[0;34m(\u001b[0m\u001b[0mlocation\u001b[0m\u001b[0;34m=\u001b[0m\u001b[0;34m[\u001b[0m\u001b[0;36m52.3824856\u001b[0m\u001b[0;34m,\u001b[0m\u001b[0;36m4.877951499999995\u001b[0m\u001b[0;34m]\u001b[0m\u001b[0;34m,\u001b[0m \u001b[0mzoom_start\u001b[0m\u001b[0;34m=\u001b[0m\u001b[0;36m16\u001b[0m\u001b[0;34m,\u001b[0m \u001b[0mtiles\u001b[0m\u001b[0;34m=\u001b[0m\u001b[0;34m'stamentoner'\u001b[0m\u001b[0;34m,\u001b[0m\u001b[0;34m)\u001b[0m\u001b[0;34m\u001b[0m\u001b[0m\n\u001b[1;32m      3\u001b[0m \u001b[0mdata\u001b[0m \u001b[0;34m=\u001b[0m \u001b[0mlist\u001b[0m\u001b[0;34m(\u001b[0m\u001b[0mzip\u001b[0m\u001b[0;34m(\u001b[0m\u001b[0mdf_active_dataset\u001b[0m\u001b[0;34m.\u001b[0m\u001b[0mlat\u001b[0m\u001b[0;34m.\u001b[0m\u001b[0mvalues\u001b[0m\u001b[0;34m,\u001b[0m \u001b[0mdf_active_dataset\u001b[0m\u001b[0;34m.\u001b[0m\u001b[0mlng\u001b[0m\u001b[0;34m.\u001b[0m\u001b[0mvalues\u001b[0m\u001b[0;34m,\u001b[0m \u001b[0mdf_active_dataset\u001b[0m\u001b[0;34m[\u001b[0m\u001b[0;34m'Seconds to nearest wormhotel'\u001b[0m\u001b[0;34m]\u001b[0m\u001b[0;34m.\u001b[0m\u001b[0mvalues\u001b[0m\u001b[0;34m)\u001b[0m\u001b[0;34m)\u001b[0m\u001b[0;34m\u001b[0m\u001b[0m\n\u001b[1;32m      4\u001b[0m \u001b[0;34m\u001b[0m\u001b[0m\n\u001b[1;32m      5\u001b[0m hm_wide = HeatMap(data,\n",
      "\u001b[0;31mNameError\u001b[0m: name 'df_active_dataset' is not defined"
     ]
    }
   ],
   "source": [
    "max_amount = float(df_active_dataset['nearest_hotel_duration'].max())\n",
    "hmap = folium.Map(location=[52.3824856,4.877951499999995], zoom_start=16, tiles='stamentoner',)\n",
    "data = list(zip(df_active_dataset.lat.values, df_active_dataset.lng.values, df_active_dataset['Seconds to nearest wormhotel'].values))\n",
    "\n",
    "hm_wide = HeatMap(data,\n",
    "                  min_opacity=0.1,\n",
    "                  max_val=max_amount,\n",
    "                  radius=15, blur=12,\n",
    "                  max_zoom=1,\n",
    "                  ).add_to(hmap)\n",
    "\n",
    "\n",
    "hmap\n",
    "\n"
   ]
  },
  {
   "cell_type": "code",
   "execution_count": null,
   "metadata": {
    "collapsed": true,
    "scrolled": true
   },
   "outputs": [],
   "source": []
  },
  {
   "cell_type": "markdown",
   "metadata": {},
   "source": [
    "Pretty, but not that useful! It seems that a lot of people are far from the hotels. However, zooming in, you can see that the houseboats and other addresses which most likely have one household have very little color. This probably means that many addresses can share the same coordinate! This skews the results, and increases the calculation time. So it's probably a good idea to only keep unique coordinates for our calculation.\n",
    "\n",
    "## Back to the drawing board: adjusting the addresses dataset to only include unique coordinates\n"
   ]
  },
  {
   "cell_type": "code",
   "execution_count": null,
   "metadata": {},
   "outputs": [],
   "source": [
    "df_adressen_witten['locatie_cleaned'].describe()"
   ]
  },
  {
   "cell_type": "markdown",
   "metadata": {},
   "source": [
    "Ah! Out of the 1454 in my small neighbourhood set, only 664 rows have a unique coordinate."
   ]
  },
  {
   "cell_type": "code",
   "execution_count": null,
   "metadata": {},
   "outputs": [],
   "source": [
    "df_adressen_witten_deduped = df_adressen_witten.drop_duplicates(subset=\"locatie_cleaned\")\n",
    "len(df_adressen_witten_deduped)"
   ]
  },
  {
   "cell_type": "code",
   "execution_count": null,
   "metadata": {},
   "outputs": [],
   "source": [
    "df_staatsliedenbuurt_deduped = df_staatsliedenbuurt.drop_duplicates(subset=\"locatie_cleaned\")\n",
    "len(df_staatsliedenbuurt)\n",
    "len(df_staatsliedenbuurt_deduped)"
   ]
  },
  {
   "cell_type": "code",
   "execution_count": 22,
   "metadata": {},
   "outputs": [
    {
     "ename": "NameError",
     "evalue": "name 'df_adressen' is not defined",
     "output_type": "error",
     "traceback": [
      "\u001b[0;31m-------------------------------------------\u001b[0m",
      "\u001b[0;31mNameError\u001b[0m Traceback (most recent call last)",
      "\u001b[0;32m<ipython-input-22-9d6ebe903c56>\u001b[0m in \u001b[0;36m<module>\u001b[0;34m()\u001b[0m\n\u001b[0;32m----> 1\u001b[0;31m \u001b[0mdf_adressen_deduped\u001b[0m \u001b[0;34m=\u001b[0m \u001b[0mdf_adressen\u001b[0m\u001b[0;34m.\u001b[0m\u001b[0mdrop_duplicates\u001b[0m\u001b[0;34m(\u001b[0m\u001b[0msubset\u001b[0m\u001b[0;34m=\u001b[0m\u001b[0;34m\"locatie_cleaned\"\u001b[0m\u001b[0;34m)\u001b[0m\u001b[0;34m\u001b[0m\u001b[0m\n\u001b[0m\u001b[1;32m      2\u001b[0m \u001b[0mlen\u001b[0m\u001b[0;34m(\u001b[0m\u001b[0mdf_adressen\u001b[0m\u001b[0;34m)\u001b[0m\u001b[0;34m\u001b[0m\u001b[0m\n\u001b[1;32m      3\u001b[0m \u001b[0mlen\u001b[0m\u001b[0;34m(\u001b[0m\u001b[0mdf_adressen_deduped\u001b[0m\u001b[0;34m)\u001b[0m\u001b[0;34m\u001b[0m\u001b[0m\n",
      "\u001b[0;31mNameError\u001b[0m: name 'df_adressen' is not defined"
     ]
    }
   ],
   "source": [
    "df_adressen_deduped = df_adressen.drop_duplicates(subset=\"locatie_cleaned\")\n",
    "len(df_adressen)\n",
    "len(df_adressen_deduped)"
   ]
  },
  {
   "cell_type": "code",
   "execution_count": 23,
   "metadata": {},
   "outputs": [
    {
     "ename": "NameError",
     "evalue": "name 'df_adressen_deduped' is not defined",
     "output_type": "error",
     "traceback": [
      "\u001b[0;31m-------------------------------------------\u001b[0m",
      "\u001b[0;31mNameError\u001b[0m Traceback (most recent call last)",
      "\u001b[0;32m<ipython-input-23-067a9004bdde>\u001b[0m in \u001b[0;36m<module>\u001b[0;34m()\u001b[0m\n\u001b[0;32m----> 1\u001b[0;31m \u001b[0mdf_active_dataset\u001b[0m \u001b[0;34m=\u001b[0m \u001b[0mdf_adressen_deduped\u001b[0m\u001b[0;34m[\u001b[0m\u001b[0mdf_adressen_deduped\u001b[0m\u001b[0;34m[\u001b[0m\u001b[0;34m'Naam gebiedsgerichtwerkengebied'\u001b[0m\u001b[0;34m]\u001b[0m \u001b[0;34m==\u001b[0m \u001b[0;34m\"Westerpark\"\u001b[0m\u001b[0;34m]\u001b[0m\u001b[0;34m\u001b[0m\u001b[0m\n\u001b[0m\u001b[1;32m      2\u001b[0m \u001b[0mmax_amount\u001b[0m \u001b[0;34m=\u001b[0m \u001b[0mfloat\u001b[0m\u001b[0;34m(\u001b[0m\u001b[0mdf_active_dataset\u001b[0m\u001b[0;34m[\u001b[0m\u001b[0;34m'Seconds to nearest wormhotel'\u001b[0m\u001b[0;34m]\u001b[0m\u001b[0;34m.\u001b[0m\u001b[0mmax\u001b[0m\u001b[0;34m(\u001b[0m\u001b[0;34m)\u001b[0m\u001b[0;34m)\u001b[0m\u001b[0;34m\u001b[0m\u001b[0m\n\u001b[1;32m      3\u001b[0m \u001b[0mhmap\u001b[0m \u001b[0;34m=\u001b[0m \u001b[0mfolium\u001b[0m\u001b[0;34m.\u001b[0m\u001b[0mMap\u001b[0m\u001b[0;34m(\u001b[0m\u001b[0mlocation\u001b[0m\u001b[0;34m=\u001b[0m\u001b[0;34m[\u001b[0m\u001b[0;36m52.3824856\u001b[0m\u001b[0;34m,\u001b[0m\u001b[0;36m4.877951499999995\u001b[0m\u001b[0;34m]\u001b[0m\u001b[0;34m,\u001b[0m \u001b[0mzoom_start\u001b[0m\u001b[0;34m=\u001b[0m\u001b[0;36m16\u001b[0m\u001b[0;34m,\u001b[0m \u001b[0mtiles\u001b[0m\u001b[0;34m=\u001b[0m\u001b[0;34m'stamentoner'\u001b[0m\u001b[0;34m,\u001b[0m\u001b[0;34m)\u001b[0m\u001b[0;34m\u001b[0m\u001b[0m\n\u001b[1;32m      4\u001b[0m \u001b[0mdata\u001b[0m \u001b[0;34m=\u001b[0m \u001b[0mlist\u001b[0m\u001b[0;34m(\u001b[0m\u001b[0mzip\u001b[0m\u001b[0;34m(\u001b[0m\u001b[0mdf_active_dataset\u001b[0m\u001b[0;34m.\u001b[0m\u001b[0mlat\u001b[0m\u001b[0;34m.\u001b[0m\u001b[0mvalues\u001b[0m\u001b[0;34m,\u001b[0m \u001b[0mdf_active_dataset\u001b[0m\u001b[0;34m.\u001b[0m\u001b[0mlng\u001b[0m\u001b[0;34m.\u001b[0m\u001b[0mvalues\u001b[0m\u001b[0;34m,\u001b[0m \u001b[0mdf_active_dataset\u001b[0m\u001b[0;34m[\u001b[0m\u001b[0;34m'Seconds to nearest wormhotel'\u001b[0m\u001b[0;34m]\u001b[0m\u001b[0;34m.\u001b[0m\u001b[0mvalues\u001b[0m\u001b[0;34m)\u001b[0m\u001b[0;34m)\u001b[0m\u001b[0;34m\u001b[0m\u001b[0m\n\u001b[1;32m      5\u001b[0m \u001b[0;34m\u001b[0m\u001b[0m\n",
      "\u001b[0;31mNameError\u001b[0m: name 'df_adressen_deduped' is not defined"
     ]
    }
   ],
   "source": [
    "df_active_dataset = df_adressen_deduped[df_adressen_deduped['Naam gebiedsgerichtwerkengebied'] == \"Westerpark\"]\n",
    "max_amount = float(df_active_dataset['Seconds to nearest wormhotel'].max())\n",
    "hmap = folium.Map(location=[52.3824856,4.877951499999995], zoom_start=16, tiles='stamentoner',)\n",
    "data = list(zip(df_active_dataset.lat.values, df_active_dataset.lng.values, df_active_dataset['Seconds to nearest wormhotel'].values))\n",
    "\n",
    "hm_wide = HeatMap(data,\n",
    "                  min_opacity=0.1,\n",
    "                  max_val=max_amount,\n",
    "                  radius=15, blur=12,\n",
    "                  max_zoom=1,\n",
    "                  ).add_to(hmap)\n",
    "\n",
    "\n",
    "hmap"
   ]
  },
  {
   "cell_type": "code",
   "execution_count": null,
   "metadata": {
    "collapsed": true
   },
   "outputs": [],
   "source": []
  },
  {
   "cell_type": "markdown",
   "metadata": {},
   "source": [
    "A bit better, but still not ideal. If there are no houses in a certain place, it looks like it's closeby to a hotel. I think we need markers and bins for this. Maybe calculate an average score per neighbourhood and cloropleth it!"
   ]
  },
  {
   "cell_type": "code",
   "execution_count": null,
   "metadata": {
    "collapsed": true
   },
   "outputs": [],
   "source": []
  },
  {
   "cell_type": "code",
   "execution_count": 24,
   "metadata": {},
   "outputs": [
    {
     "ename": "NameError",
     "evalue": "name 'df_adressen_witten' is not defined",
     "output_type": "error",
     "traceback": [
      "\u001b[0;31m-------------------------------------------\u001b[0m",
      "\u001b[0;31mNameError\u001b[0m Traceback (most recent call last)",
      "\u001b[0;32m<ipython-input-24-eed8340970d5>\u001b[0m in \u001b[0;36m<module>\u001b[0;34m()\u001b[0m\n\u001b[1;32m      1\u001b[0m \u001b[0;31m# Example of a single cell\u001b[0m\u001b[0;34m\u001b[0m\u001b[0;34m\u001b[0m\u001b[0m\n\u001b[0;32m----> 2\u001b[0;31m \u001b[0mdf_adressen_witten\u001b[0m\u001b[0;34m[\u001b[0m\u001b[0;34m'Nearest wormhotel information'\u001b[0m\u001b[0;34m]\u001b[0m\u001b[0;34m.\u001b[0m\u001b[0miloc\u001b[0m\u001b[0;34m[\u001b[0m\u001b[0;36m0\u001b[0m\u001b[0;34m]\u001b[0m\u001b[0;34m\u001b[0m\u001b[0m\n\u001b[0m\u001b[1;32m      3\u001b[0m \u001b[0;31m# Reach one of the arrays like this\u001b[0m\u001b[0;34m\u001b[0m\u001b[0;34m\u001b[0m\u001b[0m\n\u001b[1;32m      4\u001b[0m \u001b[0mdf_adressen_witten\u001b[0m\u001b[0;34m[\u001b[0m\u001b[0;34m'Nearest wormhotel information'\u001b[0m\u001b[0;34m]\u001b[0m\u001b[0;34m.\u001b[0m\u001b[0miloc\u001b[0m\u001b[0;34m[\u001b[0m\u001b[0;36m0\u001b[0m\u001b[0;34m]\u001b[0m\u001b[0;34m[\u001b[0m\u001b[0;36m0\u001b[0m\u001b[0;34m]\u001b[0m\u001b[0;34m\u001b[0m\u001b[0m\n\u001b[1;32m      5\u001b[0m \u001b[0;31m# Reach inside the values of the hotel like this\u001b[0m\u001b[0;34m\u001b[0m\u001b[0;34m\u001b[0m\u001b[0m\n",
      "\u001b[0;31mNameError\u001b[0m: name 'df_adressen_witten' is not defined"
     ]
    }
   ],
   "source": [
    "# Example of a single cell\n",
    "df_adressen_witten['Nearest wormhotel information'].iloc[0]\n",
    "# Reach one of the arrays like this\n",
    "df_adressen_witten['Nearest wormhotel information'].iloc[0][0]\n",
    "# Reach inside the values of the hotel like this\n",
    "df_adressen_witten['Nearest wormhotel information'].iloc[0][3][1]"
   ]
  },
  {
   "cell_type": "code",
   "execution_count": null,
   "metadata": {},
   "outputs": [],
   "source": []
  },
  {
   "cell_type": "code",
   "execution_count": 25,
   "metadata": {},
   "outputs": [
    {
     "ename": "NameError",
     "evalue": "name 'df_staatsliedenbuurt' is not defined",
     "output_type": "error",
     "traceback": [
      "\u001b[0;31m-------------------------------------------\u001b[0m",
      "\u001b[0;31mNameError\u001b[0m Traceback (most recent call last)",
      "\u001b[0;32m<ipython-input-25-efed7f196d1d>\u001b[0m in \u001b[0;36m<module>\u001b[0;34m()\u001b[0m\n\u001b[1;32m      1\u001b[0m \u001b[0;31m# Let's see how many hotels there are nearby\u001b[0m\u001b[0;34m\u001b[0m\u001b[0;34m\u001b[0m\u001b[0m\n\u001b[0;32m----> 2\u001b[0;31m \u001b[0mdf_staatsliedenbuurt\u001b[0m\u001b[0;34m.\u001b[0m\u001b[0mnearest_hotel_index\u001b[0m\u001b[0;34m.\u001b[0m\u001b[0munique\u001b[0m\u001b[0;34m(\u001b[0m\u001b[0;34m)\u001b[0m\u001b[0;34m\u001b[0m\u001b[0m\n\u001b[0m",
      "\u001b[0;31mNameError\u001b[0m: name 'df_staatsliedenbuurt' is not defined"
     ]
    }
   ],
   "source": [
    "# Let's see how many hotels there are nearby\n",
    "df_staatsliedenbuurt.nearest_hotel_index.unique()"
   ]
  },
  {
   "cell_type": "code",
   "execution_count": null,
   "metadata": {
    "collapsed": true
   },
   "outputs": [],
   "source": []
  },
  {
   "cell_type": "markdown",
   "metadata": {},
   "source": [
    "# Another approach: map Isochrones around the hotels\n",
    "By looking up how far people can walk around all hotels, we can compute where it's most optimal to place a wormhotel."
   ]
  },
  {
   "cell_type": "code",
   "execution_count": 26,
   "metadata": {},
   "outputs": [
    {
     "data": {
      "text/plain": [
       "<folium.map.FeatureGroup at 0x110c75400>"
      ]
     },
     "execution_count": 26,
     "metadata": {},
     "output_type": "execute_result"
    },
    {
     "data": {
      "text/plain": [
       "<folium.map.FeatureGroup at 0x110c75400>"
      ]
     },
     "execution_count": 26,
     "metadata": {},
     "output_type": "execute_result"
    },
    {
     "data": {
      "text/plain": [
       "<folium.map.FeatureGroup at 0x110c75400>"
      ]
     },
     "execution_count": 26,
     "metadata": {},
     "output_type": "execute_result"
    },
    {
     "data": {
      "text/plain": [
       "<folium.map.FeatureGroup at 0x110c75400>"
      ]
     },
     "execution_count": 26,
     "metadata": {},
     "output_type": "execute_result"
    },
    {
     "data": {
      "text/plain": [
       "<folium.map.FeatureGroup at 0x110c75400>"
      ]
     },
     "execution_count": 26,
     "metadata": {},
     "output_type": "execute_result"
    },
    {
     "data": {
      "text/plain": [
       "<folium.map.FeatureGroup at 0x110c75400>"
      ]
     },
     "execution_count": 26,
     "metadata": {},
     "output_type": "execute_result"
    },
    {
     "data": {
      "text/plain": [
       "<folium.map.FeatureGroup at 0x110c75400>"
      ]
     },
     "execution_count": 26,
     "metadata": {},
     "output_type": "execute_result"
    },
    {
     "data": {
      "text/plain": [
       "<folium.map.FeatureGroup at 0x110c75400>"
      ]
     },
     "execution_count": 26,
     "metadata": {},
     "output_type": "execute_result"
    },
    {
     "data": {
      "text/plain": [
       "<folium.map.FeatureGroup at 0x110c75400>"
      ]
     },
     "execution_count": 26,
     "metadata": {},
     "output_type": "execute_result"
    },
    {
     "data": {
      "text/plain": [
       "<folium.map.FeatureGroup at 0x110c75400>"
      ]
     },
     "execution_count": 26,
     "metadata": {},
     "output_type": "execute_result"
    },
    {
     "data": {
      "text/plain": [
       "<folium.map.FeatureGroup at 0x110c75400>"
      ]
     },
     "execution_count": 26,
     "metadata": {},
     "output_type": "execute_result"
    },
    {
     "data": {
      "text/plain": [
       "<folium.map.FeatureGroup at 0x110c75400>"
      ]
     },
     "execution_count": 26,
     "metadata": {},
     "output_type": "execute_result"
    },
    {
     "data": {
      "text/plain": [
       "<folium.map.FeatureGroup at 0x110c75400>"
      ]
     },
     "execution_count": 26,
     "metadata": {},
     "output_type": "execute_result"
    },
    {
     "data": {
      "text/plain": [
       "<folium.map.FeatureGroup at 0x110c75400>"
      ]
     },
     "execution_count": 26,
     "metadata": {},
     "output_type": "execute_result"
    },
    {
     "data": {
      "text/plain": [
       "<folium.map.FeatureGroup at 0x110c75400>"
      ]
     },
     "execution_count": 26,
     "metadata": {},
     "output_type": "execute_result"
    },
    {
     "data": {
      "text/plain": [
       "<folium.map.FeatureGroup at 0x110c75400>"
      ]
     },
     "execution_count": 26,
     "metadata": {},
     "output_type": "execute_result"
    },
    {
     "data": {
      "text/plain": [
       "<folium.map.FeatureGroup at 0x110c75400>"
      ]
     },
     "execution_count": 26,
     "metadata": {},
     "output_type": "execute_result"
    },
    {
     "data": {
      "text/plain": [
       "<folium.map.FeatureGroup at 0x110c75400>"
      ]
     },
     "execution_count": 26,
     "metadata": {},
     "output_type": "execute_result"
    },
    {
     "data": {
      "text/plain": [
       "<folium.map.FeatureGroup at 0x110c75400>"
      ]
     },
     "execution_count": 26,
     "metadata": {},
     "output_type": "execute_result"
    },
    {
     "data": {
      "text/plain": [
       "<folium.map.FeatureGroup at 0x110c75400>"
      ]
     },
     "execution_count": 26,
     "metadata": {},
     "output_type": "execute_result"
    },
    {
     "data": {
      "text/plain": [
       "<folium.map.FeatureGroup at 0x110c75400>"
      ]
     },
     "execution_count": 26,
     "metadata": {},
     "output_type": "execute_result"
    },
    {
     "data": {
      "text/plain": [
       "<folium.map.FeatureGroup at 0x110c75400>"
      ]
     },
     "execution_count": 26,
     "metadata": {},
     "output_type": "execute_result"
    },
    {
     "data": {
      "text/plain": [
       "<folium.map.FeatureGroup at 0x110c75400>"
      ]
     },
     "execution_count": 26,
     "metadata": {},
     "output_type": "execute_result"
    },
    {
     "data": {
      "text/plain": [
       "<folium.map.FeatureGroup at 0x110c75400>"
      ]
     },
     "execution_count": 26,
     "metadata": {},
     "output_type": "execute_result"
    },
    {
     "data": {
      "text/plain": [
       "<folium.map.FeatureGroup at 0x110c75400>"
      ]
     },
     "execution_count": 26,
     "metadata": {},
     "output_type": "execute_result"
    },
    {
     "data": {
      "text/plain": [
       "<folium.map.FeatureGroup at 0x110c75400>"
      ]
     },
     "execution_count": 26,
     "metadata": {},
     "output_type": "execute_result"
    },
    {
     "data": {
      "text/plain": [
       "<folium.map.FeatureGroup at 0x110c75400>"
      ]
     },
     "execution_count": 26,
     "metadata": {},
     "output_type": "execute_result"
    },
    {
     "data": {
      "text/plain": [
       "<folium.map.FeatureGroup at 0x110c75400>"
      ]
     },
     "execution_count": 26,
     "metadata": {},
     "output_type": "execute_result"
    },
    {
     "data": {
      "text/plain": [
       "<folium.map.FeatureGroup at 0x110c75400>"
      ]
     },
     "execution_count": 26,
     "metadata": {},
     "output_type": "execute_result"
    },
    {
     "data": {
      "text/plain": [
       "<folium.map.FeatureGroup at 0x110c75400>"
      ]
     },
     "execution_count": 26,
     "metadata": {},
     "output_type": "execute_result"
    },
    {
     "data": {
      "text/plain": [
       "<folium.map.FeatureGroup at 0x110c75400>"
      ]
     },
     "execution_count": 26,
     "metadata": {},
     "output_type": "execute_result"
    },
    {
     "data": {
      "text/plain": [
       "<folium.map.FeatureGroup at 0x110c75400>"
      ]
     },
     "execution_count": 26,
     "metadata": {},
     "output_type": "execute_result"
    },
    {
     "data": {
      "text/plain": [
       "<folium.map.FeatureGroup at 0x110c75400>"
      ]
     },
     "execution_count": 26,
     "metadata": {},
     "output_type": "execute_result"
    },
    {
     "data": {
      "text/plain": [
       "<folium.map.FeatureGroup at 0x110c75400>"
      ]
     },
     "execution_count": 26,
     "metadata": {},
     "output_type": "execute_result"
    },
    {
     "data": {
      "text/plain": [
       "<folium.map.FeatureGroup at 0x110c75400>"
      ]
     },
     "execution_count": 26,
     "metadata": {},
     "output_type": "execute_result"
    },
    {
     "data": {
      "text/plain": [
       "<folium.map.FeatureGroup at 0x110c75400>"
      ]
     },
     "execution_count": 26,
     "metadata": {},
     "output_type": "execute_result"
    },
    {
     "data": {
      "text/plain": [
       "<folium.map.FeatureGroup at 0x110c75400>"
      ]
     },
     "execution_count": 26,
     "metadata": {},
     "output_type": "execute_result"
    },
    {
     "data": {
      "text/plain": [
       "<folium.map.FeatureGroup at 0x110c75400>"
      ]
     },
     "execution_count": 26,
     "metadata": {},
     "output_type": "execute_result"
    },
    {
     "data": {
      "text/plain": [
       "<folium.map.FeatureGroup at 0x110c75400>"
      ]
     },
     "execution_count": 26,
     "metadata": {},
     "output_type": "execute_result"
    },
    {
     "data": {
      "text/plain": [
       "<folium.map.FeatureGroup at 0x110c75be0>"
      ]
     },
     "execution_count": 26,
     "metadata": {},
     "output_type": "execute_result"
    },
    {
     "data": {
      "text/html": [
       "<div style=\"width:100%;\"><div style=\"position:relative;width:100%;height:0;padding-bottom:60%;\"><iframe src=\"data:text/html;charset=utf-8;base64,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\" style=\"position:absolute;width:100%;height:100%;left:0;top:0;border:none !important;\" allowfullscreen webkitallowfullscreen mozallowfullscreen></iframe></div></div>"
      ],
      "text/plain": [
       "<folium.folium.Map at 0x110c75278>"
      ]
     },
     "execution_count": 26,
     "metadata": {},
     "output_type": "execute_result"
    },
    {
     "data": {
      "text/html": [
       "<div style=\"width:100%;\"><div style=\"position:relative;width:100%;height:0;padding-bottom:60%;\"><iframe src=\"data:text/html;charset=utf-8;base64,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\" style=\"position:absolute;width:100%;height:100%;left:0;top:0;border:none !important;\" allowfullscreen webkitallowfullscreen mozallowfullscreen></iframe></div></div>"
      ],
      "text/plain": [
       "<folium.folium.Map at 0x110c75278>"
      ]
     },
     "execution_count": 26,
     "metadata": {},
     "output_type": "execute_result"
    }
   ],
   "source": [
    "InteractiveShell.ast_node_interactivity = \"last_expr\"\n",
    "\n",
    "buurtcompostlocaties_markers = list(zip(df_buurtcompost.lat.values, df_buurtcompost.lng.values, df_buurtcompost.Straatnaam))\n",
    "hmap = folium.Map(location=[52.3824856,4.877951499999995], zoom_start=13, tiles='stamentoner',)\n",
    "\n",
    "feature_group = folium.FeatureGroup(\"Locations\")\n",
    "for lat, lon, name in buurtcompostlocaties_markers:\n",
    "    feature_group.add_child(folium.Marker(location=[lat,lon],popup=name))\n",
    "\n",
    "my_house = folium.FeatureGroup(\"Locations\")\n",
    "my_house.add_child(folium.Marker([52.381994, 4.876480], popup='My house (approx.)', icon=folium.Icon(color='red',icon='info-sign')))    \n",
    "    \n",
    "hmap.add_child(my_house)\n",
    "hmap.add_child(feature_group)\n",
    "\n"
   ]
  },
  {
   "cell_type": "markdown",
   "metadata": {},
   "source": [
    "I have not found a good way to plot Isochrones with OSRM, so I'll use the [Openrouteservice](https://openrouteservice.org/) instead. It only allows 5 calls at a time for their free tier, so this will be a bit clunky"
   ]
  },
  {
   "cell_type": "code",
   "execution_count": 27,
   "metadata": {},
   "outputs": [
    {
     "ename": "NameError",
     "evalue": "name 'buurtcompostlocaties_arrays' is not defined",
     "output_type": "error",
     "traceback": [
      "\u001b[0;31m-------------------------------------------\u001b[0m",
      "\u001b[0;31mNameError\u001b[0m Traceback (most recent call last)",
      "\u001b[0;32m<ipython-input-27-7b6a29695462>\u001b[0m in \u001b[0;36m<module>\u001b[0;34m()\u001b[0m\n\u001b[0;32m----> 1\u001b[0;31m \u001b[0mbuurtcompostlocaties_arrays\u001b[0m\u001b[0;34m\u001b[0m\u001b[0m\n\u001b[0m\u001b[1;32m      2\u001b[0m \u001b[0mInteractiveShell\u001b[0m\u001b[0;34m.\u001b[0m\u001b[0mast_node_interactivity\u001b[0m \u001b[0;34m=\u001b[0m \u001b[0;34m\"all\"\u001b[0m\u001b[0;34m\u001b[0m\u001b[0m\n\u001b[1;32m      3\u001b[0m \u001b[0mlen\u001b[0m\u001b[0;34m(\u001b[0m\u001b[0mbuurtcompostlocaties_arrays\u001b[0m\u001b[0;34m)\u001b[0m \u001b[0;34m/\u001b[0m \u001b[0;36m5\u001b[0m \u001b[0;31m# means I got to run this 8 times\u001b[0m\u001b[0;34m\u001b[0m\u001b[0m\n\u001b[1;32m      4\u001b[0m \u001b[0mbuurtcompostlocaties_arrays_5\u001b[0m \u001b[0;34m=\u001b[0m \u001b[0;34m[\u001b[0m\u001b[0mbuurtcompostlocaties_arrays\u001b[0m\u001b[0;34m[\u001b[0m\u001b[0mi\u001b[0m\u001b[0;34m:\u001b[0m\u001b[0mi\u001b[0m\u001b[0;34m+\u001b[0m\u001b[0;36m5\u001b[0m\u001b[0;34m]\u001b[0m \u001b[0;32mfor\u001b[0m \u001b[0mi\u001b[0m  \u001b[0;32min\u001b[0m \u001b[0mrange\u001b[0m\u001b[0;34m(\u001b[0m\u001b[0;36m0\u001b[0m\u001b[0;34m,\u001b[0m \u001b[0mlen\u001b[0m\u001b[0;34m(\u001b[0m\u001b[0mbuurtcompostlocaties_arrays\u001b[0m\u001b[0;34m)\u001b[0m\u001b[0;34m,\u001b[0m \u001b[0;36m5\u001b[0m\u001b[0;34m)\u001b[0m\u001b[0;34m]\u001b[0m\u001b[0;34m\u001b[0m\u001b[0m\n\u001b[1;32m      5\u001b[0m \u001b[0mlen\u001b[0m\u001b[0;34m(\u001b[0m\u001b[0mbuurtcompostlocaties_arrays_5\u001b[0m\u001b[0;34m)\u001b[0m \u001b[0;31m# This gives me 8 arrays of 3-5 entries which I can use to request the URLs\u001b[0m\u001b[0;34m\u001b[0m\u001b[0m\n",
      "\u001b[0;31mNameError\u001b[0m: name 'buurtcompostlocaties_arrays' is not defined"
     ]
    }
   ],
   "source": [
    "buurtcompostlocaties_arrays\n",
    "InteractiveShell.ast_node_interactivity = \"all\"\n",
    "len(buurtcompostlocaties_arrays) / 5 # means I got to run this 8 times\n",
    "buurtcompostlocaties_arrays_5 = [buurtcompostlocaties_arrays[i:i+5] for i  in range(0, len(buurtcompostlocaties_arrays), 5)]\n",
    "len(buurtcompostlocaties_arrays_5) # This gives me 8 arrays of 3-5 entries which I can use to request the URLs\n",
    "buurtcompostlocaties_arrays_5"
   ]
  },
  {
   "cell_type": "code",
   "execution_count": null,
   "metadata": {
    "collapsed": true
   },
   "outputs": [],
   "source": [
    "import geojson\n",
    "\n",
    "\n",
    "def create_isochrone_json(range_seconds, filename):\n",
    "\n",
    "    isochrone_features = []\n",
    "\n",
    "    for i in range(len(buurtcompostlocaties_arrays_5)):\n",
    "        coords = '|'.join(buurtcompostlocaties_arrays_5[i].flatten())\n",
    "        requestURL = 'https://private-anon-e7e15c7342-openrouteservice.apiary-proxy.com/isochrones' + \\\n",
    "        '?api_key=58d904a497c67e00015b45fc892c214578cd4fae9ea5f36e23e8cb2f&profile=foot-walking' + \\\n",
    "        '&range=' + range_seconds + '&location_type=destination&locations=' + coords\n",
    "        features = requests.get(requestURL).json()['features']\n",
    "        isochrone_features.append(features)\n",
    "\n",
    "        isochrone_featurecollection = {\n",
    "            \"type\": \"FeatureCollection\",\n",
    "            \"features\": []\n",
    "        }\n",
    "\n",
    "    for i in range(len(isochrone_features)):\n",
    "                   isochrone_featurecollection['features'].extend(isochrone_features[i])\n",
    "\n",
    "    with open(filename, 'w') as file:\n",
    "        geojson.dump(isochrone_featurecollection, file, indent=4, sort_keys=False)\n",
    "\n",
    "create_isochrone_json('300', 'isochrone_featurecollection_300.geojson')\n",
    "create_isochrone_json('600', 'isochrone_featurecollection_600.geojson')"
   ]
  },
  {
   "cell_type": "code",
   "execution_count": null,
   "metadata": {
    "collapsed": true
   },
   "outputs": [],
   "source": []
  },
  {
   "cell_type": "markdown",
   "metadata": {},
   "source": [
    "Cool! Let's plot it on the map!"
   ]
  },
  {
   "cell_type": "code",
   "execution_count": null,
   "metadata": {},
   "outputs": [],
   "source": [
    "InteractiveShell.ast_node_interactivity = \"last_expr\"\n",
    "\n",
    "buurtcompostlocaties_markers = list(zip(df_buurtcompost.lat.values, df_buurtcompost.lng.values, df_buurtcompost.Straatnaam))\n",
    "hmap = folium.Map(location=[52.3824856,4.877951499999995], zoom_start=13, tiles='stamentoner',)\n",
    "\n",
    "feature_group = folium.FeatureGroup(\"Locations\")\n",
    "for lat, lon, name in buurtcompostlocaties_markers:\n",
    "    feature_group.add_child(folium.Marker(location=[lat,lon],popup=name))\n",
    "    hmap.add_child(feature_group)\n",
    "\n",
    "folium.GeoJson(open(\"isochrone_featurecollection_300.geojson\",encoding = \"utf-8-sig\").read(), name='geojson').add_to(hmap)\n",
    "\n",
    "hmap"
   ]
  },
  {
   "cell_type": "markdown",
   "metadata": {},
   "source": [
    "How about a ten minute walk?"
   ]
  },
  {
   "cell_type": "code",
   "execution_count": null,
   "metadata": {
    "collapsed": true
   },
   "outputs": [],
   "source": []
  },
  {
   "cell_type": "code",
   "execution_count": null,
   "metadata": {
    "collapsed": true
   },
   "outputs": [],
   "source": []
  },
  {
   "cell_type": "code",
   "execution_count": null,
   "metadata": {},
   "outputs": [],
   "source": [
    "InteractiveShell.ast_node_interactivity = \"last_expr\"\n",
    "\n",
    "buurtcompostlocaties_markers = list(zip(df_buurtcompost.lat.values, df_buurtcompost.lng.values, df_buurtcompost.Straatnaam))\n",
    "hmap = folium.Map(location=[52.3824856,4.877951499999995], zoom_start=13, tiles='stamentoner',)\n",
    "\n",
    "feature_group = folium.FeatureGroup(\"Locations\")\n",
    "for lat, lon, name in buurtcompostlocaties_markers:\n",
    "    feature_group.add_child(folium.Marker(location=[lat,lon],popup=name))\n",
    "    hmap.add_child(feature_group)\n",
    "\n",
    "folium.GeoJson(open(\"isochrone_featurecollection_600.geojson\",encoding = \"utf-8-sig\").read(), name='geojson').add_to(hmap)\n",
    "\n",
    "hmap"
   ]
  },
  {
   "cell_type": "code",
   "execution_count": null,
   "metadata": {
    "collapsed": true
   },
   "outputs": [],
   "source": []
  },
  {
   "cell_type": "code",
   "execution_count": null,
   "metadata": {
    "collapsed": true
   },
   "outputs": [],
   "source": []
  },
  {
   "cell_type": "code",
   "execution_count": null,
   "metadata": {},
   "outputs": [],
   "source": [
    "df_adressen"
   ]
  },
  {
   "cell_type": "code",
   "execution_count": null,
   "metadata": {
    "collapsed": true
   },
   "outputs": [],
   "source": []
  },
  {
   "cell_type": "code",
   "execution_count": null,
   "metadata": {
    "collapsed": true
   },
   "outputs": [],
   "source": []
  },
  {
   "cell_type": "code",
   "execution_count": null,
   "metadata": {
    "collapsed": true
   },
   "outputs": [],
   "source": []
  },
  {
   "cell_type": "code",
   "execution_count": null,
   "metadata": {
    "collapsed": true
   },
   "outputs": [],
   "source": []
  },
  {
   "cell_type": "code",
   "execution_count": null,
   "metadata": {
    "collapsed": true
   },
   "outputs": [],
   "source": []
  },
  {
   "cell_type": "code",
   "execution_count": null,
   "metadata": {
    "collapsed": true
   },
   "outputs": [],
   "source": []
  },
  {
   "cell_type": "code",
   "execution_count": null,
   "metadata": {
    "collapsed": true
   },
   "outputs": [],
   "source": []
  },
  {
   "cell_type": "code",
   "execution_count": null,
   "metadata": {
    "collapsed": true
   },
   "outputs": [],
   "source": []
  },
  {
   "cell_type": "code",
   "execution_count": null,
   "metadata": {
    "collapsed": true
   },
   "outputs": [],
   "source": []
  },
  {
   "cell_type": "code",
   "execution_count": null,
   "metadata": {
    "collapsed": true
   },
   "outputs": [],
   "source": []
  },
  {
   "cell_type": "code",
   "execution_count": null,
   "metadata": {
    "collapsed": true
   },
   "outputs": [],
   "source": []
  },
  {
   "cell_type": "code",
   "execution_count": null,
   "metadata": {
    "collapsed": true
   },
   "outputs": [],
   "source": []
  },
  {
   "cell_type": "code",
   "execution_count": null,
   "metadata": {
    "collapsed": true
   },
   "outputs": [],
   "source": []
  },
  {
   "cell_type": "code",
   "execution_count": null,
   "metadata": {
    "collapsed": true
   },
   "outputs": [],
   "source": []
  },
  {
   "cell_type": "code",
   "execution_count": null,
   "metadata": {
    "collapsed": true
   },
   "outputs": [],
   "source": []
  },
  {
   "cell_type": "code",
   "execution_count": null,
   "metadata": {
    "collapsed": true
   },
   "outputs": [],
   "source": []
  },
  {
   "cell_type": "code",
   "execution_count": null,
   "metadata": {
    "collapsed": true
   },
   "outputs": [],
   "source": []
  },
  {
   "cell_type": "code",
   "execution_count": null,
   "metadata": {
    "collapsed": true
   },
   "outputs": [],
   "source": []
  }
 ],
 "metadata": {
  "kernelspec": {
   "display_name": "Python 3",
   "language": "python",
   "name": "python3"
  },
  "language_info": {
   "codemirror_mode": {
    "name": "ipython",
    "version": 3
   },
   "file_extension": ".py",
   "mimetype": "text/x-python",
   "name": "python",
   "nbconvert_exporter": "python",
   "pygments_lexer": "ipython3",
   "version": "3.6.4"
  }
 },
 "nbformat": 4,
 "nbformat_minor": 2
}
